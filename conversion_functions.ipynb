{
 "cells": [
  {
   "cell_type": "code",
   "execution_count": 47,
   "metadata": {},
   "outputs": [],
   "source": [
    "import os\n",
    "import numpy as np\n",
    "\n",
    "\n",
    "                \n",
    "def toQuery(rootdir,outtxt,folderpos=0):\n",
    "    \n",
    "    #\n",
    "    \n",
    "    outfile = open(outtxt,'w')\n",
    "    \n",
    "    for subdir, dirs, files in os.walk(rootdir):\n",
    "        for i in range(len(files)):\n",
    "            if i == folderpos:\n",
    "                tempO = open(os.path.join(subdir, files[i]))\n",
    "                contents = tempO.read()\n",
    "                for i in range(len(contents)):\n",
    "                    outfile.write(contents[i])\n",
    "\n",
    "                    \n",
    "                    \n",
    "def toDb(rootdir,outfna):\n",
    "    \n",
    "    #\n",
    "    \n",
    "    outfile = open(outfna,'w')\n",
    "    \n",
    "    for subdir, dirs, files in os.walk(rootdir):\n",
    "        for i in range(len(files)):\n",
    "            tempO = open(os.path.join(subdir, files[i]))\n",
    "            contents = tempO.read()\n",
    "            for i in range(len(contents)):\n",
    "                outfile.write(contents[i])\n",
    "\n",
    "                \n",
    "\n",
    "def blastnCount(inOut):\n",
    "    \n",
    "    #\n",
    "    \n",
    "    blastnOut = open(inOut)\n",
    "    \n",
    "    seqcount = 0 #number of found matches\n",
    "    totcount = 0 #number of sequences found in query \n",
    "    \n",
    "    line = blastnOut.readline()\n",
    "    while line:\n",
    "        if (line == 'Sequences producing significant alignments:                          (Bits)  Value\\n'):\n",
    "            seqcount = seqcount + 1\n",
    "            totcount = totcount + 1\n",
    "        if (line == '***** No hits found *****\\n'):\n",
    "            totcount = totcount + 1\n",
    "        line = blastnOut.readline()\n",
    "    blastnOut.close()\n",
    "    print(seqcount)\n",
    "    print(totcount)\n",
    "\n",
    "\n",
    "\n",
    "def onlyHits(infile,outfile):\n",
    "    \n",
    "    #\n",
    "    \n",
    "    fullBlastn = open(infile)\n",
    "    onlyHits = open(outfile,'w')\n",
    "    \n",
    "    newblock = []\n",
    "    hitcheck = 0\n",
    "    \n",
    "    line = fullBlastn.readline()\n",
    "    while line:\n",
    "        if((line[0] == 'Q') and (line[5] == '=')):\n",
    "            if(newblock and hitcheck):\n",
    "                for i in range(len(newblock)):\n",
    "                    onlyHits.write(newblock[i])\n",
    "            newblock = []\n",
    "            hitcheck = 0 \n",
    "        if(line == 'Sequences producing significant alignments:                          (Bits)  Value\\n'):\n",
    "            hitcheck = 1\n",
    "        newblock.append(line)\n",
    "        line = fullBlastn.readline()\n",
    "    if(hitcheck):\n",
    "        for i in range(len(newblock)):\n",
    "            outonlyhits.write(newblock[i])\n",
    "        newblock = []\n",
    "        hitcheck = 0\n",
    "    fullBlastn.close()\n",
    "            \n",
    "\n",
    "def toFasta(infile,outfile):\n",
    "    \n",
    "    #\n",
    "    \n",
    "    onlyHits = open(infile)\n",
    "    fasForm = open(outfile,'w')\n",
    "    \n",
    "    newline = ''\n",
    "    scorecheck = 0\n",
    "    \n",
    "    line = onlyHits.readline()\n",
    "    while line:\n",
    "        if(line[1:6] == \"Score\"):\n",
    "            scorecheck = scorecheck + 1\n",
    "        elif((line[0]) == 'Q') and (line[5] == '='):\n",
    "            scorecheck = 0\n",
    "            if(newline):\n",
    "                fasForm.write(newline)\n",
    "                fasForm.write('\\n')\n",
    "                newline = ''\n",
    "            fasForm.write('>')\n",
    "            check1 = 0\n",
    "            line = line[7:]\n",
    "            while(check1 == 0):\n",
    "                for i in range(len(line)):\n",
    "                    if(line[i] != '\\n'):\n",
    "                        fasForm.write(line[i])\n",
    "                    else:\n",
    "                        fasForm.write(' ')\n",
    "                line = onlyHits.readline()\n",
    "                if(len(line)<=1):\n",
    "                    check1 = 1\n",
    "            fasForm.write('\\n')\n",
    "        elif((line[0] == 'Q') and (line[5] != '=')):\n",
    "            if(scorecheck < 2):\n",
    "                for i in range(len(line)):\n",
    "                    if((line[i] == 'A' or line[i] == 'T') or (line[i] == 'C' or line[i] == 'G')):\n",
    "                        newline = newline + line[i]\n",
    "        line = onlyHits.readline()\n",
    "    fasForm.write(newline)\n",
    "    onlyHits.close()\n",
    "\n",
    "\n",
    "def lengthAve(infile,lowcut=0,highcut=1):\n",
    "    \n",
    "    #takes in onlyHits to fasta file. lowcut,hightcut are bottom and top percentile cutoffs for counting average length\n",
    "    #default parameters will average all sequences. \n",
    "    \n",
    "    inf = open(infile)\n",
    "    \n",
    "    alllengths = []\n",
    "    line = inf.readline()\n",
    "    while line:\n",
    "        if(line[0] != '>'):\n",
    "            curcount = 0\n",
    "            line = line[1:-1]\n",
    "            alllengths.append(len(line))\n",
    "        line = inf.readline()\n",
    "    inf.close()\n",
    "    \n",
    "    alllengths.sort()\n",
    "    numcount = 0\n",
    "    lencount = 0\n",
    "    for i in range(int(round(lowcut*len(alllengths))),int(round(highcut*len(alllengths)))):\n",
    "        numcount = numcount + 1\n",
    "        lencount = lencount + alllengths[i]\n",
    "        \n",
    "    print(lencount/numcount)\n",
    "    print(alllengths)\n",
    "    \n",
    "    \n",
    "def removeMarks(infile,outfile):\n",
    "    \n",
    "    #\n",
    "    \n",
    "    mothurAlign = open(infile)\n",
    "    out = open(outfile,'w')\n",
    "    \n",
    "    line = mothurAlign.readline()\n",
    "    while line:\n",
    "        for i in range(len(line)):\n",
    "            if((line[i] != '.') and (line[i] != '-')):\n",
    "                out.write(line[i])\n",
    "        line = mothurAlign.readline()\n",
    "    mothurAlign.close()\n",
    "    \n",
    "    \n",
    "def originalTags(infile,template,outfile):\n",
    "    \n",
    "    #\n",
    "    \n",
    "    inf = open(infile)\n",
    "    tem = open(template)\n",
    "    outf = open(outfile,'w')\n",
    "    \n",
    "    line = inf.readline()\n",
    "    line = tem.readline()\n",
    "    check = 1\n",
    "    while(line):\n",
    "        outf.write(line)\n",
    "        check = check * -1\n",
    "        if(check == -1):\n",
    "            line = tem.readline()\n",
    "            line = inf.readline()\n",
    "        else:\n",
    "            line = inf.readline()\n",
    "            line = tem.readline()\n",
    "        \n",
    "    inf.close()\n",
    "    tem.close()\n",
    "    \n",
    "def phylipFormat(infile,outfile,seqnum):\n",
    "    \n",
    "    #seqnum = '259\\n' if there are 259 sequences\n",
    "    \n",
    "    megaCSV = open(infile)\n",
    "    mothurPhylip = open(outfile,'w')\n",
    "    \n",
    "    mothurPhylip.write('259\\n')\n",
    "    \n",
    "    line = megaCSV.readline()\n",
    "    while line:\n",
    "        for i in range(len(line)):\n",
    "            if(line[i] == ','):\n",
    "                mothurPhylip.write('\\t')\n",
    "            else:\n",
    "                mothurPhylip.write(line[i])\n",
    "        line = megaCSV.readline()\n",
    "        if(line[0] == '\\n'):\n",
    "            line = ''\n",
    "    megaCSV.close()"
   ]
  },
  {
   "cell_type": "code",
   "execution_count": 9,
   "metadata": {},
   "outputs": [],
   "source": [
    "#16srRNA\n",
    "toDb('16sRefs','16srRNAref.fna')"
   ]
  },
  {
   "cell_type": "code",
   "execution_count": 14,
   "metadata": {},
   "outputs": [],
   "source": [
    "onlyHits('16srRNAout.txt','16srRNAoutOnlyHits.txt')"
   ]
  },
  {
   "cell_type": "code",
   "execution_count": 17,
   "metadata": {},
   "outputs": [],
   "source": [
    "toFasta('16srRNAoutOnlyHits.txt','16srRNAout.fasta')"
   ]
  },
  {
   "cell_type": "code",
   "execution_count": 21,
   "metadata": {},
   "outputs": [],
   "source": [
    "removeMarks('16srRNAout.align','16srRNAflipped.fasta')"
   ]
  },
  {
   "cell_type": "code",
   "execution_count": 5,
   "metadata": {},
   "outputs": [],
   "source": [
    "phylipFormat('16srRNA.dist','phyl16srRNA.dist')"
   ]
  },
  {
   "cell_type": "code",
   "execution_count": 32,
   "metadata": {},
   "outputs": [],
   "source": [
    "removeMarks('16srRNAgpo.align','16srRNAgpoflipped.fasta')"
   ]
  },
  {
   "cell_type": "code",
   "execution_count": 34,
   "metadata": {},
   "outputs": [],
   "source": [
    "originalTags('16srRNAgpoflipped.fasta','16srRNAgpo.fasta','16srRNAgpoformflip.fasta')"
   ]
  },
  {
   "cell_type": "code",
   "execution_count": 4,
   "metadata": {},
   "outputs": [],
   "source": [
    "#recA \n",
    "toDb('recArefs','recAref.fna')"
   ]
  },
  {
   "cell_type": "code",
   "execution_count": 66,
   "metadata": {},
   "outputs": [
    {
     "name": "stdout",
     "output_type": "stream",
     "text": [
      "246\n",
      "15248\n"
     ]
    }
   ],
   "source": [
    "blastnCount('recAout.txt')"
   ]
  },
  {
   "cell_type": "code",
   "execution_count": 6,
   "metadata": {},
   "outputs": [],
   "source": [
    "onlyHits('recAout.txt','recAoutOnlyHits.txt')"
   ]
  },
  {
   "cell_type": "code",
   "execution_count": 7,
   "metadata": {},
   "outputs": [],
   "source": [
    "toFasta('recAoutOnlyHits.txt','recAout.fasta')"
   ]
  },
  {
   "cell_type": "code",
   "execution_count": 35,
   "metadata": {},
   "outputs": [],
   "source": [
    "removeMarks('recAgpo.align','recAgpoflipped.fasta')"
   ]
  },
  {
   "cell_type": "code",
   "execution_count": 37,
   "metadata": {},
   "outputs": [],
   "source": [
    "originalTags('recAgpoflipped.fasta','recAgpo.fasta','recAgpoformflip.fasta')"
   ]
  },
  {
   "cell_type": "code",
   "execution_count": 13,
   "metadata": {},
   "outputs": [],
   "source": [
    "#glnII\n",
    "toDb('glnIIrefs','glnIIref.fna')"
   ]
  },
  {
   "cell_type": "code",
   "execution_count": 18,
   "metadata": {},
   "outputs": [
    {
     "name": "stdout",
     "output_type": "stream",
     "text": [
      "218\n",
      "15248\n"
     ]
    }
   ],
   "source": [
    "blastnCount('glnIIout.txt')"
   ]
  },
  {
   "cell_type": "code",
   "execution_count": 16,
   "metadata": {},
   "outputs": [],
   "source": [
    "onlyHits('glnIIout.txt','glnIIoutOnlyHits.txt')"
   ]
  },
  {
   "cell_type": "code",
   "execution_count": 17,
   "metadata": {},
   "outputs": [],
   "source": [
    "toFasta('glnIIoutOnlyHits.txt','glnIIout.fasta')"
   ]
  },
  {
   "cell_type": "code",
   "execution_count": 38,
   "metadata": {},
   "outputs": [],
   "source": [
    "removeMarks('glnIIgpo.align','glnIIgpoflipped.fasta')"
   ]
  },
  {
   "cell_type": "code",
   "execution_count": 39,
   "metadata": {},
   "outputs": [],
   "source": [
    "originalTags('glnIIgpoflipped.fasta','glnIIgpo.fasta','glnIIgpoformflip.fasta')"
   ]
  },
  {
   "cell_type": "code",
   "execution_count": 19,
   "metadata": {},
   "outputs": [],
   "source": [
    "#gltA\n",
    "toDb('gltArefs','gltAref.fna')"
   ]
  },
  {
   "cell_type": "code",
   "execution_count": 20,
   "metadata": {},
   "outputs": [
    {
     "name": "stdout",
     "output_type": "stream",
     "text": [
      "50\n",
      "15248\n"
     ]
    }
   ],
   "source": [
    "blastnCount('gltAout.txt')"
   ]
  },
  {
   "cell_type": "code",
   "execution_count": 21,
   "metadata": {},
   "outputs": [],
   "source": [
    "onlyHits('gltAout.txt','gltAoutOnlyHits.txt')"
   ]
  },
  {
   "cell_type": "code",
   "execution_count": 23,
   "metadata": {},
   "outputs": [],
   "source": [
    "toFasta('gltAoutOnlyHits.txt','gltAout.fasta')"
   ]
  },
  {
   "cell_type": "code",
   "execution_count": 24,
   "metadata": {},
   "outputs": [],
   "source": [
    "#dnaK\n",
    "toDb('dnaKrefs','dnaKref.fna')"
   ]
  },
  {
   "cell_type": "code",
   "execution_count": 32,
   "metadata": {},
   "outputs": [
    {
     "name": "stdout",
     "output_type": "stream",
     "text": [
      "140\n",
      "15248\n"
     ]
    }
   ],
   "source": [
    "blastnCount('dnaKout.txt')"
   ]
  },
  {
   "cell_type": "code",
   "execution_count": 26,
   "metadata": {},
   "outputs": [],
   "source": [
    "onlyHits('dnaKout.txt','dnaKoutOnlyHits.txt')"
   ]
  },
  {
   "cell_type": "code",
   "execution_count": 27,
   "metadata": {},
   "outputs": [],
   "source": [
    "toFasta('dnaKoutOnlyHits.txt','dnaKout.fasta')"
   ]
  },
  {
   "cell_type": "code",
   "execution_count": 28,
   "metadata": {},
   "outputs": [],
   "source": [
    "#rpoA\n",
    "toDb('rpoArefs','rpoAref.fna')"
   ]
  },
  {
   "cell_type": "code",
   "execution_count": 34,
   "metadata": {},
   "outputs": [
    {
     "name": "stdout",
     "output_type": "stream",
     "text": [
      "0\n",
      "15248\n"
     ]
    }
   ],
   "source": [
    "blastnCount('rpoAout.txt')"
   ]
  },
  {
   "cell_type": "code",
   "execution_count": 3,
   "metadata": {},
   "outputs": [],
   "source": [
    "#nifh\n",
    "toDb('nifHrefs','nifHref.fna')"
   ]
  },
  {
   "cell_type": "code",
   "execution_count": 6,
   "metadata": {},
   "outputs": [
    {
     "name": "stdout",
     "output_type": "stream",
     "text": [
      "101\n",
      "15248\n"
     ]
    }
   ],
   "source": [
    "blastnCount('nifHout.txt')"
   ]
  },
  {
   "cell_type": "code",
   "execution_count": 7,
   "metadata": {},
   "outputs": [],
   "source": [
    "onlyHits('nifHout.txt','nifHoutOnlyHits.txt')"
   ]
  },
  {
   "cell_type": "code",
   "execution_count": 9,
   "metadata": {},
   "outputs": [],
   "source": [
    "toFasta('nifHoutOnlyHits.txt','nifHout.fasta')"
   ]
  },
  {
   "cell_type": "code",
   "execution_count": 15,
   "metadata": {},
   "outputs": [],
   "source": [
    "removeMarks('nifHout.align','nifHflipped.fasta')"
   ]
  },
  {
   "cell_type": "code",
   "execution_count": 28,
   "metadata": {},
   "outputs": [],
   "source": [
    "originalTags('nifHflipped.fasta','nifHout.fasta','nifHformflip.fasta')"
   ]
  },
  {
   "cell_type": "code",
   "execution_count": 10,
   "metadata": {},
   "outputs": [],
   "source": [
    "#nodC\n",
    "toDb('nodCrefs','nodCref.fna')"
   ]
  },
  {
   "cell_type": "code",
   "execution_count": 12,
   "metadata": {},
   "outputs": [
    {
     "name": "stdout",
     "output_type": "stream",
     "text": [
      "98\n",
      "15248\n"
     ]
    }
   ],
   "source": [
    "blastnCount('nodCout.txt')"
   ]
  },
  {
   "cell_type": "code",
   "execution_count": 13,
   "metadata": {},
   "outputs": [],
   "source": [
    "onlyHits('nodCout.txt','nodCoutOnlyHits.txt')"
   ]
  },
  {
   "cell_type": "code",
   "execution_count": 14,
   "metadata": {},
   "outputs": [],
   "source": [
    "toFasta('nodCoutOnlyHits.txt','nodCout.fasta')"
   ]
  },
  {
   "cell_type": "code",
   "execution_count": 29,
   "metadata": {},
   "outputs": [],
   "source": [
    "removeMarks('nodCout.align','nodCflipped.fasta')"
   ]
  },
  {
   "cell_type": "code",
   "execution_count": 31,
   "metadata": {},
   "outputs": [],
   "source": [
    "originalTags('nodCflipped.fasta','nodCout.fasta','nodCformflip.fasta')"
   ]
  },
  {
   "cell_type": "code",
   "execution_count": 4,
   "metadata": {},
   "outputs": [],
   "source": [
    "#flip 4 genes\n",
    "removeMarks('16srRNAgpo.align','16srRNAgpoflip.fasta')"
   ]
  },
  {
   "cell_type": "code",
   "execution_count": 3,
   "metadata": {},
   "outputs": [],
   "source": [
    "removeMarks('temp11.fasta','16srRNAgpoMA.fasta')"
   ]
  },
  {
   "cell_type": "code",
   "execution_count": null,
   "metadata": {},
   "outputs": [],
   "source": []
  },
  {
   "cell_type": "code",
   "execution_count": null,
   "metadata": {},
   "outputs": [],
   "source": []
  },
  {
   "cell_type": "code",
   "execution_count": null,
   "metadata": {},
   "outputs": [],
   "source": []
  },
  {
   "cell_type": "code",
   "execution_count": 2,
   "metadata": {},
   "outputs": [
    {
     "name": "stdout",
     "output_type": "stream",
     "text": [
      "0\n",
      "15248\n"
     ]
    }
   ],
   "source": [
    "blastnCount('rpoAout.txt')"
   ]
  },
  {
   "cell_type": "code",
   "execution_count": 3,
   "metadata": {},
   "outputs": [],
   "source": [
    "toDb('redo/16sRefs','redo/16srRNAref.fna')"
   ]
  },
  {
   "cell_type": "code",
   "execution_count": 17,
   "metadata": {},
   "outputs": [
    {
     "name": "stdout",
     "output_type": "stream",
     "text": [
      "309\n",
      "15248\n"
     ]
    }
   ],
   "source": [
    "blastnCount('redo/16srRNAout.txt')"
   ]
  },
  {
   "cell_type": "code",
   "execution_count": 18,
   "metadata": {},
   "outputs": [],
   "source": [
    "onlyHits('redo/16srRNAout.txt','redo/16srRNAoutOnlyHits.txt')"
   ]
  },
  {
   "cell_type": "code",
   "execution_count": 44,
   "metadata": {},
   "outputs": [],
   "source": [
    "toFasta('redo/16srRNAoutOnlyHits.txt','redo/16srRNAout.fasta')"
   ]
  },
  {
   "cell_type": "code",
   "execution_count": 60,
   "metadata": {},
   "outputs": [
    {
     "name": "stdout",
     "output_type": "stream",
     "text": [
      "1481.3034825870648\n",
      "[40, 45, 52, 52, 63, 65, 65, 71, 85, 87, 99, 108, 109, 116, 126, 130, 130, 134, 160, 167, 177, 220, 231, 242, 259, 259, 264, 266, 280, 309, 346, 421, 456, 466, 481, 562, 616, 663, 690, 721, 747, 929, 940, 964, 965, 994, 1120, 1132, 1151, 1160, 1253, 1275, 1283, 1299, 1300, 1310, 1354, 1370, 1381, 1386, 1386, 1386, 1400, 1405, 1405, 1405, 1405, 1459, 1472, 1472, 1472, 1472, 1472, 1472, 1472, 1472, 1472, 1472, 1472, 1472, 1472, 1472, 1472, 1472, 1472, 1472, 1472, 1474, 1474, 1474, 1476, 1476, 1478, 1478, 1479, 1480, 1480, 1480, 1480, 1480, 1480, 1480, 1480, 1480, 1480, 1480, 1480, 1480, 1480, 1480, 1480, 1480, 1480, 1480, 1480, 1480, 1480, 1480, 1480, 1480, 1480, 1480, 1480, 1480, 1480, 1480, 1480, 1480, 1480, 1480, 1480, 1480, 1480, 1480, 1480, 1480, 1480, 1480, 1480, 1480, 1480, 1480, 1480, 1480, 1480, 1480, 1480, 1480, 1480, 1480, 1480, 1480, 1480, 1480, 1480, 1480, 1480, 1480, 1480, 1480, 1480, 1480, 1480, 1480, 1480, 1480, 1480, 1480, 1480, 1480, 1480, 1480, 1480, 1480, 1480, 1480, 1480, 1480, 1480, 1480, 1480, 1480, 1480, 1480, 1480, 1480, 1480, 1480, 1480, 1480, 1480, 1480, 1480, 1480, 1480, 1480, 1480, 1480, 1480, 1480, 1480, 1480, 1480, 1480, 1480, 1480, 1480, 1480, 1480, 1480, 1480, 1480, 1480, 1480, 1480, 1480, 1480, 1480, 1480, 1480, 1480, 1480, 1480, 1480, 1480, 1480, 1480, 1480, 1480, 1480, 1480, 1480, 1480, 1480, 1482, 1482, 1482, 1482, 1482, 1482, 1484, 1484, 1484, 1484, 1484, 1484, 1484, 1484, 1484, 1484, 1484, 1484, 1484, 1484, 1484, 1484, 1484, 1484, 1484, 1484, 1484, 1484, 1484, 1484, 1484, 1484, 1484, 1484, 1484, 1484, 1484, 1484, 1484, 1484, 1484, 1484, 1484, 1484, 1484, 1484, 1484, 1484, 1484, 1484, 1484, 1484, 1484, 1486, 1486, 1486, 1486, 1490, 1494, 1497, 1497, 1497, 1497, 1497, 1497, 1499, 1499, 1499, 1499, 1499, 1499, 1499, 1500, 1501, 1501]\n"
     ]
    }
   ],
   "source": [
    "lengthAve('redo/16srRNAout.fasta',lowcut = 0.3,highcut = 0.95)\n"
   ]
  },
  {
   "cell_type": "code",
   "execution_count": 46,
   "metadata": {},
   "outputs": [],
   "source": [
    "toFasta('16srRNAoutOnlyHits.txt','16srRNAout.fasta')"
   ]
  },
  {
   "cell_type": "code",
   "execution_count": 61,
   "metadata": {},
   "outputs": [
    {
     "name": "stdout",
     "output_type": "stream",
     "text": [
      "1280.372972972973\n",
      "[56, 108, 207, 219, 242, 266, 274, 303, 453, 460, 480, 561, 616, 662, 683, 683, 687, 730, 732, 826, 926, 963, 992, 1059, 1059, 1152, 1160, 1161, 1161, 1246, 1271, 1272, 1273, 1273, 1273, 1273, 1273, 1273, 1273, 1273, 1273, 1273, 1273, 1273, 1273, 1273, 1273, 1273, 1273, 1273, 1273, 1273, 1273, 1273, 1273, 1273, 1273, 1273, 1273, 1273, 1273, 1273, 1273, 1273, 1273, 1273, 1273, 1273, 1273, 1273, 1273, 1273, 1273, 1273, 1273, 1273, 1273, 1273, 1273, 1273, 1273, 1273, 1273, 1273, 1273, 1273, 1273, 1273, 1273, 1273, 1273, 1273, 1273, 1273, 1273, 1273, 1273, 1273, 1273, 1273, 1273, 1273, 1273, 1273, 1273, 1273, 1273, 1273, 1273, 1273, 1273, 1273, 1273, 1273, 1273, 1273, 1273, 1273, 1273, 1273, 1273, 1273, 1273, 1273, 1273, 1273, 1273, 1273, 1273, 1273, 1273, 1273, 1273, 1273, 1273, 1273, 1273, 1273, 1273, 1273, 1273, 1273, 1273, 1273, 1273, 1273, 1273, 1273, 1273, 1275, 1275, 1275, 1275, 1277, 1277, 1277, 1277, 1277, 1277, 1277, 1277, 1277, 1277, 1277, 1277, 1277, 1277, 1277, 1277, 1277, 1277, 1277, 1277, 1277, 1277, 1277, 1277, 1277, 1277, 1277, 1277, 1277, 1277, 1277, 1277, 1277, 1277, 1277, 1277, 1277, 1278, 1279, 1279, 1279, 1279, 1279, 1279, 1288, 1288, 1288, 1288, 1288, 1288, 1288, 1288, 1288, 1288, 1288, 1288, 1288, 1288, 1288, 1288, 1288, 1288, 1288, 1288, 1288, 1288, 1288, 1288, 1288, 1288, 1288, 1288, 1288, 1288, 1288, 1288, 1288, 1288, 1288, 1288, 1288, 1288, 1288, 1288, 1288, 1288, 1288, 1288, 1288, 1288, 1288, 1288, 1288, 1288, 1288, 1288, 1288, 1288, 1290, 1290, 1290, 1290, 1290, 1290, 1290, 1290, 1290, 1290, 1290, 1291, 1292, 1292, 1292, 1292, 1292, 1292, 1292, 1292, 1292, 1292, 1292, 1292, 1292, 1292, 1292, 1292, 1292, 1292, 1293, 1488, 1531, 1541]\n"
     ]
    }
   ],
   "source": [
    "lengthAve('16srRNAout.fasta',lowcut = 0.3,highcut = 0.95)"
   ]
  },
  {
   "cell_type": "code",
   "execution_count": 5,
   "metadata": {},
   "outputs": [],
   "source": [
    "toDb('redo/recArefs','redo/recAref.fna')"
   ]
  },
  {
   "cell_type": "code",
   "execution_count": 67,
   "metadata": {},
   "outputs": [
    {
     "name": "stdout",
     "output_type": "stream",
     "text": [
      "262\n",
      "15248\n"
     ]
    }
   ],
   "source": [
    "blastnCount('redo/recAout.txt')"
   ]
  },
  {
   "cell_type": "code",
   "execution_count": 68,
   "metadata": {},
   "outputs": [],
   "source": [
    "onlyHits('redo/recAout.txt','redo/recAoutOnlyHits.txt')"
   ]
  },
  {
   "cell_type": "code",
   "execution_count": 69,
   "metadata": {},
   "outputs": [],
   "source": [
    "toFasta('redo/recAoutOnlyHits.txt','redo/recAout.fasta')"
   ]
  },
  {
   "cell_type": "code",
   "execution_count": 76,
   "metadata": {},
   "outputs": [
    {
     "name": "stdout",
     "output_type": "stream",
     "text": [
      "1073.6238095238095\n",
      "[987, 1024, 1027, 1027, 1027, 1027, 1027, 1027, 1027, 1027, 1027, 1044, 1048, 1051, 1051, 1054, 1054, 1054, 1054, 1054, 1054, 1055, 1055, 1055, 1055, 1055, 1055, 1056, 1057, 1057, 1057, 1057, 1057, 1057, 1057, 1057, 1057, 1057, 1058, 1058, 1058, 1058, 1058, 1059, 1059, 1059, 1059, 1059, 1059, 1059, 1059, 1059, 1060, 1060, 1062, 1062, 1062, 1062, 1062, 1062, 1063, 1063, 1063, 1063, 1063, 1063, 1063, 1063, 1063, 1065, 1065, 1065, 1066, 1066, 1066, 1066, 1068, 1068, 1068, 1068, 1068, 1068, 1068, 1068, 1069, 1069, 1069, 1069, 1069, 1069, 1069, 1069, 1069, 1069, 1069, 1069, 1069, 1069, 1069, 1069, 1069, 1069, 1069, 1069, 1070, 1071, 1071, 1071, 1071, 1071, 1071, 1071, 1071, 1071, 1071, 1071, 1071, 1071, 1071, 1071, 1071, 1071, 1071, 1071, 1071, 1071, 1071, 1071, 1071, 1071, 1071, 1071, 1071, 1071, 1071, 1071, 1071, 1071, 1071, 1071, 1071, 1071, 1071, 1072, 1072, 1072, 1072, 1072, 1072, 1072, 1072, 1072, 1072, 1073, 1073, 1073, 1074, 1074, 1075, 1075, 1077, 1077, 1077, 1077, 1077, 1077, 1077, 1080, 1081, 1081, 1081, 1081, 1082, 1084, 1084, 1084, 1084, 1084, 1085, 1085, 1085, 1085, 1086, 1086, 1086, 1086, 1086, 1086, 1086, 1086, 1086, 1086, 1086, 1086, 1087, 1088, 1088, 1088, 1088, 1088, 1088, 1088, 1088, 1088, 1088, 1088, 1088, 1088, 1088, 1088, 1088, 1088, 1088, 1088, 1088, 1088, 1088, 1088, 1088, 1088, 1088, 1088, 1088, 1088, 1088, 1088, 1088, 1088, 1088, 1088, 1088, 1088, 1088, 1088, 1088, 1088, 1088, 1088, 1088, 1088, 1088, 1088, 1088, 1088, 1088, 1088, 1088, 1088, 1088, 1088, 1088, 1088, 1088, 1088, 1088, 1088, 1088, 1088, 1091, 1091, 1091, 1091]\n"
     ]
    }
   ],
   "source": [
    "lengthAve('redo/recAout.fasta',0.1,0.9)"
   ]
  },
  {
   "cell_type": "code",
   "execution_count": 72,
   "metadata": {},
   "outputs": [],
   "source": [
    "toFasta('recAoutOnlyHits.txt','recAout.fasta')"
   ]
  },
  {
   "cell_type": "code",
   "execution_count": 77,
   "metadata": {},
   "outputs": [
    {
     "name": "stdout",
     "output_type": "stream",
     "text": [
      "885.4387755102041\n",
      "[623, 623, 632, 664, 665, 673, 682, 682, 685, 767, 773, 775, 776, 776, 778, 778, 778, 778, 783, 794, 794, 796, 797, 797, 797, 797, 802, 813, 813, 814, 815, 821, 821, 821, 821, 821, 835, 835, 838, 838, 838, 838, 838, 838, 838, 838, 838, 838, 838, 838, 838, 838, 838, 838, 838, 838, 838, 838, 838, 838, 838, 838, 838, 838, 838, 838, 839, 839, 839, 839, 839, 840, 840, 840, 841, 841, 841, 841, 841, 841, 841, 841, 841, 841, 841, 841, 841, 841, 841, 841, 841, 841, 841, 841, 841, 841, 841, 842, 842, 842, 842, 842, 842, 842, 842, 842, 842, 842, 842, 842, 842, 842, 842, 842, 842, 842, 843, 843, 843, 843, 843, 843, 854, 858, 872, 874, 886, 895, 901, 901, 902, 902, 902, 902, 902, 902, 902, 902, 902, 902, 902, 905, 916, 916, 918, 919, 919, 919, 919, 919, 919, 919, 934, 940, 946, 946, 946, 946, 946, 946, 946, 946, 946, 946, 946, 946, 946, 946, 946, 946, 946, 946, 946, 946, 946, 946, 946, 946, 946, 946, 946, 946, 946, 946, 946, 946, 946, 946, 946, 947, 947, 947, 947, 947, 947, 947, 947, 947, 947, 947, 947, 947, 947, 947, 947, 947, 947, 947, 947, 947, 947, 947, 947, 947, 947, 947, 947, 947, 947, 947, 947, 947, 947, 947, 947, 947, 947, 947, 947, 948, 948, 948, 948, 948, 948, 949, 949, 949, 949, 949, 951, 951, 951, 951, 983, 983]\n"
     ]
    }
   ],
   "source": [
    "lengthAve('recAout.fasta',0.1,0.9)"
   ]
  },
  {
   "cell_type": "code",
   "execution_count": 79,
   "metadata": {},
   "outputs": [],
   "source": [
    "toDb('redo/glnIIrefs','redo/glnIIref.fna')"
   ]
  },
  {
   "cell_type": "code",
   "execution_count": 80,
   "metadata": {},
   "outputs": [
    {
     "name": "stdout",
     "output_type": "stream",
     "text": [
      "272\n",
      "15248\n"
     ]
    }
   ],
   "source": [
    "blastnCount('redo/glnIIout.txt')"
   ]
  },
  {
   "cell_type": "code",
   "execution_count": 82,
   "metadata": {},
   "outputs": [
    {
     "name": "stdout",
     "output_type": "stream",
     "text": [
      "218\n",
      "15248\n"
     ]
    }
   ],
   "source": [
    "blastnCount('glnIIout.txt')"
   ]
  },
  {
   "cell_type": "code",
   "execution_count": 83,
   "metadata": {},
   "outputs": [],
   "source": [
    "onlyHits('redo/glnIIout.txt','redo/glnIIoutOnlyHits.txt')"
   ]
  },
  {
   "cell_type": "code",
   "execution_count": 85,
   "metadata": {},
   "outputs": [],
   "source": [
    "toFasta('redo/glnIIoutOnlyHits.txt','redo/glnIIout.fasta')"
   ]
  },
  {
   "cell_type": "code",
   "execution_count": 88,
   "metadata": {},
   "outputs": [
    {
     "name": "stdout",
     "output_type": "stream",
     "text": [
      "1030.5441176470588\n",
      "[89, 146, 237, 245, 245, 358, 394, 394, 394, 419, 443, 528, 530, 578, 589, 753, 972, 975, 981, 982, 989, 990, 990, 990, 990, 990, 990, 990, 990, 990, 990, 1006, 1006, 1006, 1006, 1009, 1009, 1009, 1009, 1010, 1010, 1010, 1010, 1010, 1010, 1010, 1010, 1010, 1010, 1010, 1010, 1010, 1010, 1010, 1010, 1010, 1010, 1010, 1010, 1010, 1010, 1010, 1010, 1010, 1010, 1010, 1010, 1010, 1010, 1010, 1010, 1010, 1010, 1010, 1010, 1010, 1010, 1010, 1010, 1010, 1010, 1010, 1010, 1010, 1010, 1010, 1010, 1010, 1010, 1010, 1010, 1012, 1012, 1012, 1012, 1012, 1012, 1012, 1012, 1012, 1012, 1012, 1012, 1012, 1012, 1013, 1013, 1013, 1013, 1015, 1015, 1015, 1016, 1025, 1026, 1026, 1030, 1030, 1031, 1032, 1032, 1032, 1033, 1033, 1033, 1033, 1033, 1033, 1033, 1033, 1033, 1035, 1036, 1036, 1038, 1038, 1038, 1038, 1038, 1038, 1038, 1038, 1038, 1038, 1038, 1038, 1038, 1038, 1038, 1038, 1038, 1038, 1038, 1038, 1038, 1038, 1038, 1039, 1039, 1040, 1040, 1040, 1040, 1040, 1040, 1040, 1040, 1040, 1040, 1040, 1040, 1040, 1040, 1040, 1040, 1040, 1040, 1040, 1040, 1040, 1040, 1040, 1040, 1040, 1040, 1040, 1040, 1040, 1040, 1040, 1040, 1040, 1040, 1040, 1040, 1040, 1040, 1040, 1040, 1040, 1040, 1040, 1040, 1040, 1040, 1040, 1040, 1040, 1040, 1040, 1040, 1040, 1040, 1040, 1040, 1040, 1040, 1040, 1040, 1040, 1040, 1040, 1040, 1040, 1040, 1040, 1040, 1040, 1040, 1040, 1040, 1040, 1040, 1040, 1040, 1040, 1040, 1040, 1040, 1040, 1040, 1040, 1040, 1040, 1040, 1040, 1040, 1040, 1040, 1040, 1040, 1040, 1040, 1040, 1040, 1040, 1040, 1040, 1040, 1040, 1040, 1040, 1040, 1040, 1040, 1040, 1040, 1040, 1040, 1040, 1040, 1040]\n"
     ]
    }
   ],
   "source": [
    "lengthAve('redo/glnIIout.fasta',0.2,0.95)"
   ]
  },
  {
   "cell_type": "code",
   "execution_count": 90,
   "metadata": {},
   "outputs": [],
   "source": [
    "toFasta('glnIIoutOnlyHits.txt','glnIIout.fasta')"
   ]
  },
  {
   "cell_type": "code",
   "execution_count": 91,
   "metadata": {},
   "outputs": [
    {
     "name": "stdout",
     "output_type": "stream",
     "text": [
      "1002.638036809816\n",
      "[222, 222, 358, 380, 491, 589, 589, 753, 932, 936, 980, 980, 981, 981, 981, 981, 981, 994, 997, 997, 997, 997, 997, 997, 997, 997, 997, 998, 998, 998, 998, 998, 998, 998, 998, 998, 998, 998, 998, 998, 998, 998, 998, 998, 998, 998, 998, 998, 998, 998, 998, 1000, 1000, 1000, 1000, 1000, 1000, 1000, 1000, 1001, 1001, 1001, 1001, 1001, 1001, 1001, 1001, 1001, 1001, 1001, 1001, 1001, 1001, 1001, 1001, 1001, 1001, 1001, 1001, 1001, 1001, 1001, 1001, 1001, 1001, 1001, 1001, 1001, 1001, 1001, 1001, 1001, 1001, 1001, 1001, 1001, 1001, 1001, 1001, 1001, 1001, 1001, 1001, 1001, 1001, 1001, 1001, 1001, 1001, 1001, 1001, 1001, 1001, 1001, 1001, 1001, 1001, 1001, 1001, 1001, 1001, 1001, 1001, 1001, 1001, 1001, 1001, 1001, 1001, 1001, 1001, 1001, 1001, 1001, 1001, 1001, 1001, 1001, 1001, 1001, 1001, 1001, 1001, 1001, 1001, 1001, 1001, 1001, 1001, 1001, 1001, 1001, 1001, 1001, 1001, 1001, 1001, 1001, 1001, 1001, 1001, 1001, 1001, 1001, 1001, 1001, 1001, 1001, 1001, 1001, 1001, 1001, 1001, 1001, 1001, 1001, 1001, 1001, 1001, 1001, 1001, 1001, 1001, 1001, 1012, 1013, 1014, 1014, 1014, 1014, 1014, 1014, 1014, 1014, 1014, 1014, 1014, 1014, 1014, 1014, 1014, 1014, 1014, 1014, 1014, 1014, 1014, 1015, 1015, 1015, 1015, 1015, 1015, 1015, 1015, 1015, 1034, 1034]\n"
     ]
    }
   ],
   "source": [
    "lengthAve('glnIIout.fasta',0.2,0.95)"
   ]
  },
  {
   "cell_type": "code",
   "execution_count": 92,
   "metadata": {},
   "outputs": [],
   "source": [
    "toDb('redo/gltArefs','redo/gltAref.fna')"
   ]
  },
  {
   "cell_type": "code",
   "execution_count": 94,
   "metadata": {},
   "outputs": [
    {
     "name": "stdout",
     "output_type": "stream",
     "text": [
      "271\n",
      "15248\n",
      "50\n",
      "15248\n"
     ]
    }
   ],
   "source": [
    "blastnCount('redo/gltAout.txt')\n",
    "blastnCount('gltAout.txt')"
   ]
  },
  {
   "cell_type": "code",
   "execution_count": 97,
   "metadata": {},
   "outputs": [],
   "source": [
    "onlyHits('redo/gltAout.txt','redo/gltAoutOnlyHits.txt')"
   ]
  },
  {
   "cell_type": "code",
   "execution_count": 99,
   "metadata": {},
   "outputs": [],
   "source": [
    "toFasta('redo/gltAoutOnlyHits.txt','redo/gltAout.fasta')"
   ]
  },
  {
   "cell_type": "code",
   "execution_count": 107,
   "metadata": {},
   "outputs": [
    {
     "name": "stdout",
     "output_type": "stream",
     "text": [
      "1255.2767527675276\n",
      "[121, 197, 583, 840, 842, 928, 1152, 1165, 1167, 1167, 1167, 1174, 1180, 1180, 1202, 1204, 1204, 1205, 1206, 1216, 1216, 1216, 1216, 1218, 1218, 1218, 1220, 1220, 1220, 1220, 1220, 1220, 1220, 1220, 1220, 1220, 1220, 1220, 1220, 1220, 1220, 1220, 1220, 1220, 1220, 1220, 1220, 1222, 1222, 1223, 1224, 1225, 1225, 1225, 1225, 1225, 1228, 1229, 1229, 1229, 1236, 1236, 1237, 1245, 1246, 1257, 1259, 1259, 1259, 1262, 1262, 1268, 1269, 1269, 1269, 1269, 1269, 1275, 1277, 1280, 1285, 1285, 1285, 1285, 1285, 1285, 1285, 1285, 1285, 1285, 1285, 1285, 1285, 1285, 1285, 1285, 1285, 1285, 1285, 1285, 1285, 1285, 1285, 1285, 1285, 1286, 1287, 1287, 1287, 1287, 1287, 1287, 1287, 1287, 1287, 1287, 1287, 1287, 1287, 1287, 1287, 1287, 1287, 1287, 1287, 1287, 1287, 1287, 1287, 1287, 1287, 1287, 1287, 1287, 1287, 1287, 1287, 1287, 1287, 1287, 1287, 1287, 1289, 1289, 1289, 1289, 1289, 1289, 1289, 1289, 1289, 1289, 1289, 1289, 1289, 1289, 1289, 1289, 1289, 1289, 1289, 1289, 1289, 1289, 1289, 1289, 1289, 1289, 1289, 1289, 1289, 1289, 1289, 1289, 1289, 1289, 1289, 1289, 1289, 1289, 1289, 1289, 1289, 1289, 1289, 1289, 1289, 1289, 1289, 1289, 1289, 1289, 1289, 1289, 1289, 1289, 1289, 1289, 1289, 1289, 1289, 1289, 1289, 1289, 1289, 1289, 1289, 1289, 1289, 1289, 1289, 1289, 1289, 1289, 1289, 1289, 1289, 1289, 1289, 1289, 1289, 1289, 1289, 1289, 1289, 1289, 1289, 1289, 1289, 1289, 1289, 1289, 1289, 1289, 1289, 1289, 1289, 1289, 1289, 1289, 1289, 1289, 1289, 1289, 1289, 1289, 1289, 1289, 1289, 1289, 1289, 1289, 1289, 1289, 1289, 1289, 1289, 1289, 1289, 1289, 1289, 1289, 1289, 1289, 1289, 1289, 1289, 1289, 1289, 1289, 1289]\n"
     ]
    }
   ],
   "source": [
    "lengthAve('redo/gltAout.fasta')"
   ]
  },
  {
   "cell_type": "code",
   "execution_count": 101,
   "metadata": {},
   "outputs": [],
   "source": [
    "toFasta('gltAoutOnlyHits.txt','gltAout.fasta')"
   ]
  },
  {
   "cell_type": "code",
   "execution_count": 106,
   "metadata": {},
   "outputs": [
    {
     "name": "stdout",
     "output_type": "stream",
     "text": [
      "1117.5\n",
      "[1072, 1082, 1082, 1082, 1082, 1086, 1087, 1087, 1087, 1087, 1087, 1087, 1087, 1087, 1087, 1087, 1087, 1120, 1120, 1120, 1120, 1120, 1120, 1120, 1120, 1120, 1120, 1120, 1120, 1120, 1120, 1127, 1127, 1129, 1129, 1129, 1131, 1131, 1132, 1133, 1144, 1150, 1150, 1150, 1150, 1150, 1150, 1151, 1186, 1203]\n"
     ]
    }
   ],
   "source": [
    "lengthAve('gltAout.fasta')"
   ]
  },
  {
   "cell_type": "code",
   "execution_count": 96,
   "metadata": {},
   "outputs": [],
   "source": [
    "toDb('redo/dnaKrefs','redo/dnaKref.fna')"
   ]
  },
  {
   "cell_type": "code",
   "execution_count": 108,
   "metadata": {},
   "outputs": [
    {
     "name": "stdout",
     "output_type": "stream",
     "text": [
      "264\n",
      "15248\n",
      "140\n",
      "15248\n"
     ]
    }
   ],
   "source": [
    "blastnCount('redo/dnaKout.txt')\n",
    "blastnCount('dnaKout.txt')"
   ]
  },
  {
   "cell_type": "code",
   "execution_count": 110,
   "metadata": {},
   "outputs": [],
   "source": [
    "onlyHits('redo/dnaKout.txt','redo/dnaKoutOnlyHits.txt')"
   ]
  },
  {
   "cell_type": "code",
   "execution_count": 111,
   "metadata": {},
   "outputs": [],
   "source": [
    "toFasta('redo/dnaKoutOnlyHits.txt','redo/dnaKout.fasta')"
   ]
  },
  {
   "cell_type": "code",
   "execution_count": 112,
   "metadata": {},
   "outputs": [
    {
     "name": "stdout",
     "output_type": "stream",
     "text": [
      "1902.3560606060605\n",
      "[1564, 1570, 1575, 1603, 1810, 1811, 1822, 1825, 1825, 1882, 1882, 1882, 1882, 1882, 1885, 1885, 1885, 1885, 1885, 1885, 1885, 1885, 1885, 1886, 1886, 1886, 1886, 1886, 1886, 1886, 1886, 1886, 1886, 1886, 1886, 1886, 1886, 1886, 1886, 1886, 1886, 1888, 1888, 1888, 1888, 1888, 1888, 1889, 1889, 1889, 1891, 1892, 1892, 1893, 1893, 1893, 1893, 1894, 1894, 1894, 1895, 1895, 1895, 1896, 1897, 1897, 1897, 1898, 1902, 1902, 1902, 1903, 1903, 1904, 1904, 1904, 1904, 1904, 1904, 1905, 1905, 1905, 1905, 1906, 1906, 1906, 1906, 1906, 1908, 1910, 1910, 1910, 1910, 1910, 1910, 1910, 1910, 1910, 1910, 1910, 1910, 1910, 1913, 1913, 1915, 1915, 1915, 1915, 1915, 1916, 1916, 1916, 1916, 1916, 1916, 1916, 1916, 1916, 1916, 1916, 1916, 1916, 1916, 1916, 1916, 1916, 1916, 1916, 1916, 1916, 1916, 1916, 1916, 1916, 1916, 1916, 1916, 1916, 1916, 1916, 1916, 1916, 1916, 1916, 1916, 1916, 1916, 1916, 1916, 1916, 1916, 1916, 1916, 1916, 1916, 1916, 1916, 1916, 1916, 1916, 1916, 1916, 1916, 1916, 1916, 1916, 1916, 1916, 1916, 1916, 1916, 1916, 1916, 1916, 1916, 1916, 1916, 1916, 1916, 1916, 1916, 1916, 1916, 1916, 1916, 1916, 1916, 1916, 1916, 1916, 1916, 1916, 1916, 1916, 1916, 1916, 1916, 1916, 1916, 1916, 1916, 1916, 1916, 1916, 1916, 1916, 1916, 1919, 1919, 1919, 1919, 1919, 1919, 1919, 1919, 1919, 1919, 1919, 1919, 1919, 1919, 1919, 1919, 1919, 1919, 1919, 1919, 1919, 1919, 1919, 1919, 1919, 1919, 1919, 1919, 1919, 1919, 1919, 1919, 1919, 1919, 1919, 1919, 1919, 1919, 1919, 1919, 1919, 1919, 1919, 1919, 1919, 1919, 1919, 1919, 1919, 1922, 1922, 1922, 1922, 1922, 1922, 1922, 1922]\n"
     ]
    }
   ],
   "source": [
    "lengthAve('redo/dnaKout.fasta')"
   ]
  },
  {
   "cell_type": "code",
   "execution_count": 114,
   "metadata": {},
   "outputs": [],
   "source": [
    "toFasta('dnaKoutOnlyHits.txt','dnaKout.fasta')"
   ]
  },
  {
   "cell_type": "code",
   "execution_count": 115,
   "metadata": {},
   "outputs": [
    {
     "name": "stdout",
     "output_type": "stream",
     "text": [
      "1131.6857142857143\n",
      "[377, 441, 1060, 1060, 1060, 1060, 1060, 1060, 1060, 1060, 1060, 1060, 1060, 1060, 1060, 1060, 1060, 1060, 1060, 1060, 1060, 1060, 1060, 1060, 1060, 1060, 1060, 1060, 1060, 1060, 1060, 1060, 1060, 1060, 1060, 1060, 1060, 1060, 1060, 1060, 1060, 1069, 1080, 1080, 1080, 1080, 1129, 1133, 1135, 1135, 1138, 1138, 1138, 1138, 1138, 1138, 1138, 1138, 1138, 1138, 1138, 1138, 1138, 1138, 1138, 1138, 1138, 1138, 1138, 1141, 1142, 1142, 1142, 1144, 1144, 1146, 1151, 1155, 1155, 1155, 1155, 1155, 1155, 1155, 1155, 1162, 1162, 1162, 1164, 1164, 1164, 1165, 1165, 1165, 1167, 1167, 1167, 1167, 1167, 1167, 1167, 1167, 1167, 1167, 1167, 1167, 1167, 1167, 1167, 1176, 1178, 1187, 1187, 1187, 1187, 1187, 1187, 1189, 1191, 1192, 1192, 1192, 1192, 1192, 1192, 1192, 1192, 1192, 1192, 1193, 1196, 1199, 1199, 1201, 1201, 1398, 1412, 1468, 1560, 1562]\n"
     ]
    }
   ],
   "source": [
    "lengthAve('dnaKout.fasta')"
   ]
  },
  {
   "cell_type": "code",
   "execution_count": 116,
   "metadata": {},
   "outputs": [],
   "source": [
    "toDb('redo/rpoArefs','redo/rpoAref.fna')"
   ]
  },
  {
   "cell_type": "code",
   "execution_count": 119,
   "metadata": {},
   "outputs": [
    {
     "name": "stdout",
     "output_type": "stream",
     "text": [
      "263\n",
      "15248\n"
     ]
    }
   ],
   "source": [
    "blastnCount('redo/rpoAout.txt')"
   ]
  },
  {
   "cell_type": "code",
   "execution_count": 120,
   "metadata": {},
   "outputs": [],
   "source": [
    "onlyHits('redo/rpoAout.txt','redo/rpoAoutOnlyHits.txt')"
   ]
  },
  {
   "cell_type": "code",
   "execution_count": 125,
   "metadata": {},
   "outputs": [],
   "source": [
    "toFasta('redo/rpoAoutOnlyHits.txt','redo/rpoAout.fasta')"
   ]
  },
  {
   "cell_type": "code",
   "execution_count": 122,
   "metadata": {},
   "outputs": [
    {
     "name": "stdout",
     "output_type": "stream",
     "text": [
      "1004.5779467680609\n",
      "[497, 498, 929, 1000, 1000, 1003, 1003, 1003, 1003, 1003, 1003, 1003, 1003, 1003, 1003, 1006, 1006, 1006, 1006, 1006, 1006, 1006, 1006, 1006, 1006, 1006, 1006, 1006, 1006, 1006, 1006, 1006, 1006, 1006, 1006, 1007, 1007, 1007, 1007, 1008, 1008, 1008, 1008, 1008, 1008, 1008, 1008, 1008, 1008, 1008, 1008, 1008, 1008, 1008, 1008, 1008, 1008, 1008, 1008, 1008, 1008, 1008, 1008, 1008, 1008, 1008, 1008, 1008, 1008, 1008, 1008, 1008, 1008, 1008, 1008, 1008, 1008, 1008, 1008, 1008, 1008, 1008, 1008, 1008, 1008, 1008, 1008, 1008, 1008, 1008, 1008, 1008, 1008, 1008, 1008, 1008, 1008, 1008, 1008, 1008, 1008, 1008, 1008, 1008, 1008, 1008, 1008, 1009, 1009, 1010, 1010, 1010, 1010, 1010, 1010, 1010, 1010, 1010, 1010, 1010, 1010, 1010, 1010, 1010, 1010, 1010, 1010, 1010, 1010, 1010, 1010, 1010, 1010, 1010, 1010, 1010, 1010, 1010, 1010, 1010, 1010, 1010, 1010, 1010, 1010, 1010, 1010, 1010, 1010, 1010, 1010, 1010, 1010, 1010, 1010, 1010, 1010, 1010, 1010, 1010, 1010, 1010, 1010, 1010, 1010, 1010, 1010, 1010, 1010, 1010, 1010, 1010, 1010, 1010, 1010, 1010, 1010, 1010, 1010, 1010, 1010, 1010, 1010, 1010, 1010, 1010, 1010, 1010, 1010, 1010, 1010, 1010, 1010, 1010, 1010, 1010, 1010, 1010, 1010, 1010, 1010, 1010, 1010, 1010, 1010, 1010, 1010, 1010, 1010, 1010, 1010, 1010, 1010, 1010, 1010, 1010, 1010, 1010, 1010, 1010, 1010, 1010, 1010, 1010, 1010, 1010, 1010, 1010, 1010, 1010, 1010, 1010, 1010, 1010, 1010, 1010, 1010, 1010, 1010, 1010, 1010, 1010, 1010, 1010, 1010, 1010, 1010, 1010, 1010, 1010, 1010, 1010, 1010, 1010, 1010, 1010, 1010, 1010, 1010, 1010, 1010, 1010, 1010]\n"
     ]
    }
   ],
   "source": [
    "lengthAve('rpoAout.fasta')"
   ]
  },
  {
   "cell_type": "code",
   "execution_count": 123,
   "metadata": {},
   "outputs": [],
   "source": [
    "#reformatting of nifH, nodC with new toFasta\n",
    "toFasta('nifHoutOnlyHits.txt','nifHout.fasta')\n",
    "toFasta('nodCoutOnlyHits.txt','nodCout.fasta')"
   ]
  },
  {
   "cell_type": "code",
   "execution_count": null,
   "metadata": {},
   "outputs": [],
   "source": []
  }
 ],
 "metadata": {
  "kernelspec": {
   "display_name": "Python 3",
   "language": "python",
   "name": "python3"
  },
  "language_info": {
   "codemirror_mode": {
    "name": "ipython",
    "version": 3
   },
   "file_extension": ".py",
   "mimetype": "text/x-python",
   "name": "python",
   "nbconvert_exporter": "python",
   "pygments_lexer": "ipython3",
   "version": "3.6.5"
  }
 },
 "nbformat": 4,
 "nbformat_minor": 2
}
