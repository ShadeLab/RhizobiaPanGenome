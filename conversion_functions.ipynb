{
 "cells": [
  {
   "cell_type": "code",
   "execution_count": 27,
   "metadata": {},
   "outputs": [],
   "source": [
    "import os\n",
    "import numpy as np\n",
    "\n",
    "\n",
    "                \n",
    "def toQuery(rootdir,outtxt,folderpos=0):\n",
    "    \n",
    "    #\n",
    "    \n",
    "    outfile = open(outtxt,'w')\n",
    "    \n",
    "    for subdir, dirs, files in os.walk(rootdir):\n",
    "        for i in range(len(files)):\n",
    "            if i == folderpos:\n",
    "                tempO = open(os.path.join(subdir, files[i]))\n",
    "                contents = tempO.read()\n",
    "                for i in range(len(contents)):\n",
    "                    outfile.write(contents[i])\n",
    "\n",
    "                    \n",
    "                    \n",
    "def toDb(rootdir,outfna):\n",
    "    \n",
    "    #\n",
    "    \n",
    "    outfile = open(outfna,'w')\n",
    "    \n",
    "    for subdir, dirs, files in os.walk(rootdir):\n",
    "        for i in range(len(files)):\n",
    "            tempO = open(os.path.join(subdir, files[i]))\n",
    "            contents = tempO.read()\n",
    "            for i in range(len(contents)):\n",
    "                outfile.write(contents[i])\n",
    "\n",
    "                \n",
    "\n",
    "def blastnCount(inOut):\n",
    "    \n",
    "    #\n",
    "    \n",
    "    blastnOut = open(inOut)\n",
    "    \n",
    "    seqcount = 0 #number of found matches\n",
    "    totcount = 0 #number of sequences found in query \n",
    "    \n",
    "    line = blastnOut.readline()\n",
    "    while line:\n",
    "        if (line == 'Sequences producing significant alignments:                          (Bits)  Value\\n'):\n",
    "            seqcount = seqcount + 1\n",
    "            totcount = totcount + 1\n",
    "        if (line == '***** No hits found *****\\n'):\n",
    "            totcount = totcount + 1\n",
    "        line = blastnOut.readline()\n",
    "    blastnOut.close()\n",
    "    print(seqcount)\n",
    "    print(totcount)\n",
    "\n",
    "\n",
    "\n",
    "def onlyHits(infile,outfile):\n",
    "    \n",
    "    #\n",
    "    \n",
    "    fullBlastn = open(infile)\n",
    "    onlyHits = open(outfile,'w')\n",
    "    \n",
    "    newblock = []\n",
    "    hitcheck = 0\n",
    "    \n",
    "    line = fullBlastn.readline()\n",
    "    while line:\n",
    "        if((line[0] == 'Q') and (line[5] == '=')):\n",
    "            if(newblock and hitcheck):\n",
    "                for i in range(len(newblock)):\n",
    "                    onlyHits.write(newblock[i])\n",
    "            newblock = []\n",
    "            hitcheck = 0 \n",
    "        if(line == 'Sequences producing significant alignments:                          (Bits)  Value\\n'):\n",
    "            hitcheck = 1\n",
    "        newblock.append(line)\n",
    "        line = fullBlastn.readline()\n",
    "    if(hitcheck):\n",
    "        for i in range(len(newblock)):\n",
    "            outonlyhits.write(newblock[i])\n",
    "        newblock = []\n",
    "        hitcheck = 0\n",
    "    fullBlastn.close()\n",
    "    \n",
    "\n",
    "\n",
    "def toFasta(infile,outfile):\n",
    "    \n",
    "    #\n",
    "    \n",
    "    onlyHits = open(infile)\n",
    "    fasForm = open(outfile,'w')\n",
    "    \n",
    "    newline = ''\n",
    "    \n",
    "    line = onlyHits.readline()\n",
    "    while line:\n",
    "        if((line[0]) == 'Q') and (line[5] == '='):\n",
    "            if(newline):\n",
    "                fasForm.write(newline)\n",
    "                fasForm.write('\\n')\n",
    "                newline = ''\n",
    "            fasForm.write('>')\n",
    "            check1 = 0\n",
    "            line = line[7:]\n",
    "            while(check1 == 0):\n",
    "                for i in range(len(line)):\n",
    "                    if(line[i] != '\\n'):\n",
    "                        fasForm.write(line[i])\n",
    "                    else:\n",
    "                        fasForm.write(' ')\n",
    "                line = onlyHits.readline()\n",
    "                if(len(line)<=1):\n",
    "                    check1 = 1\n",
    "            fasForm.write('\\n')\n",
    "        elif((line[0] == 'Q') and (line[5] != '=')):\n",
    "            for i in range(len(line)):\n",
    "                if((line[i] == 'A' or line[i] == 'T') or (line[i] == 'C' or line[i] == 'G')):\n",
    "                    newline = newline + line[i]\n",
    "        line = onlyHits.readline()\n",
    "    fasForm.write(newline)\n",
    "    onlyHits.close()\n",
    "\n",
    "    \n",
    "def removeMarks(infile,outfile):\n",
    "    \n",
    "    #\n",
    "    \n",
    "    mothurAlign = open(infile)\n",
    "    out = open(outfile,'w')\n",
    "    \n",
    "    line = mothurAlign.readline()\n",
    "    while line:\n",
    "        for i in range(len(line)):\n",
    "            if((line[i] != '.') and (line[i] != '-')):\n",
    "                out.write(line[i])\n",
    "        line = mothurAlign.readline()\n",
    "    mothurAlign.close()\n",
    "    \n",
    "def originalTags(infile,template,outfile):\n",
    "    \n",
    "    #\n",
    "    \n",
    "    inf = open(infile)\n",
    "    tem = open(template)\n",
    "    outf = open(outfile,'w')\n",
    "    \n",
    "    line = inf.readline()\n",
    "    line = tem.readline()\n",
    "    check = 1\n",
    "    while(line):\n",
    "        outf.write(line)\n",
    "        check = check * -1\n",
    "        if(check == -1):\n",
    "            line = tem.readline()\n",
    "            line = inf.readline()\n",
    "        else:\n",
    "            line = inf.readline()\n",
    "            line = tem.readline()\n",
    "        \n",
    "    inf.close()\n",
    "    tem.close()\n",
    "    \n",
    "def phylipFormat(infile,outfile,seqnum):\n",
    "    \n",
    "    #seqnum = '259\\n' if there are 259 sequences\n",
    "    \n",
    "    megaCSV = open(infile)\n",
    "    mothurPhylip = open(outfile,'w')\n",
    "    \n",
    "    mothurPhylip.write('259\\n')\n",
    "    \n",
    "    line = megaCSV.readline()\n",
    "    while line:\n",
    "        for i in range(len(line)):\n",
    "            if(line[i] == ','):\n",
    "                mothurPhylip.write('\\t')\n",
    "            else:\n",
    "                mothurPhylip.write(line[i])\n",
    "        line = megaCSV.readline()\n",
    "        if(line[0] == '\\n'):\n",
    "            line = ''\n",
    "    megaCSV.close()"
   ]
  },
  {
   "cell_type": "code",
   "execution_count": 9,
   "metadata": {},
   "outputs": [],
   "source": [
    "#16srRNA\n",
    "toDb('16sRefs','16srRNAref.fna')"
   ]
  },
  {
   "cell_type": "code",
   "execution_count": 14,
   "metadata": {},
   "outputs": [],
   "source": [
    "onlyHits('16srRNAout.txt','16srRNAoutOnlyHits.txt')"
   ]
  },
  {
   "cell_type": "code",
   "execution_count": 17,
   "metadata": {},
   "outputs": [],
   "source": [
    "toFasta('16srRNAoutOnlyHits.txt','16srRNAout.fasta')"
   ]
  },
  {
   "cell_type": "code",
   "execution_count": 21,
   "metadata": {},
   "outputs": [],
   "source": [
    "removeMarks('16srRNAout.align','16srRNAflipped.fasta')"
   ]
  },
  {
   "cell_type": "code",
   "execution_count": 5,
   "metadata": {},
   "outputs": [],
   "source": [
    "phylipFormat('16srRNA.dist','phyl16srRNA.dist')"
   ]
  },
  {
   "cell_type": "code",
   "execution_count": 32,
   "metadata": {},
   "outputs": [],
   "source": [
    "removeMarks('16srRNAgpo.align','16srRNAgpoflipped.fasta')"
   ]
  },
  {
   "cell_type": "code",
   "execution_count": 34,
   "metadata": {},
   "outputs": [],
   "source": [
    "originalTags('16srRNAgpoflipped.fasta','16srRNAgpo.fasta','16srRNAgpoformflip.fasta')"
   ]
  },
  {
   "cell_type": "code",
   "execution_count": 4,
   "metadata": {},
   "outputs": [],
   "source": [
    "#recA \n",
    "toDb('recArefs','recAref.fna')"
   ]
  },
  {
   "cell_type": "code",
   "execution_count": 5,
   "metadata": {},
   "outputs": [
    {
     "name": "stdout",
     "output_type": "stream",
     "text": [
      "246\n",
      "15248\n"
     ]
    }
   ],
   "source": [
    "blastnCount('recAout.txt')"
   ]
  },
  {
   "cell_type": "code",
   "execution_count": 6,
   "metadata": {},
   "outputs": [],
   "source": [
    "onlyHits('recAout.txt','recAoutOnlyHits.txt')"
   ]
  },
  {
   "cell_type": "code",
   "execution_count": 7,
   "metadata": {},
   "outputs": [],
   "source": [
    "toFasta('recAoutOnlyHits.txt','recAout.fasta')"
   ]
  },
  {
   "cell_type": "code",
   "execution_count": 35,
   "metadata": {},
   "outputs": [],
   "source": [
    "removeMarks('recAgpo.align','recAgpoflipped.fasta')"
   ]
  },
  {
   "cell_type": "code",
   "execution_count": 37,
   "metadata": {},
   "outputs": [],
   "source": [
    "originalTags('recAgpoflipped.fasta','recAgpo.fasta','recAgpoformflip.fasta')"
   ]
  },
  {
   "cell_type": "code",
   "execution_count": 13,
   "metadata": {},
   "outputs": [],
   "source": [
    "#glnII\n",
    "toDb('glnIIrefs','glnIIref.fna')"
   ]
  },
  {
   "cell_type": "code",
   "execution_count": 18,
   "metadata": {},
   "outputs": [
    {
     "name": "stdout",
     "output_type": "stream",
     "text": [
      "218\n",
      "15248\n"
     ]
    }
   ],
   "source": [
    "blastnCount('glnIIout.txt')"
   ]
  },
  {
   "cell_type": "code",
   "execution_count": 16,
   "metadata": {},
   "outputs": [],
   "source": [
    "onlyHits('glnIIout.txt','glnIIoutOnlyHits.txt')"
   ]
  },
  {
   "cell_type": "code",
   "execution_count": 17,
   "metadata": {},
   "outputs": [],
   "source": [
    "toFasta('glnIIoutOnlyHits.txt','glnIIout.fasta')"
   ]
  },
  {
   "cell_type": "code",
   "execution_count": 38,
   "metadata": {},
   "outputs": [],
   "source": [
    "removeMarks('glnIIgpo.align','glnIIgpoflipped.fasta')"
   ]
  },
  {
   "cell_type": "code",
   "execution_count": 39,
   "metadata": {},
   "outputs": [],
   "source": [
    "originalTags('glnIIgpoflipped.fasta','glnIIgpo.fasta','glnIIgpoformflip.fasta')"
   ]
  },
  {
   "cell_type": "code",
   "execution_count": 19,
   "metadata": {},
   "outputs": [],
   "source": [
    "#gltA\n",
    "toDb('gltArefs','gltAref.fna')"
   ]
  },
  {
   "cell_type": "code",
   "execution_count": 20,
   "metadata": {},
   "outputs": [
    {
     "name": "stdout",
     "output_type": "stream",
     "text": [
      "50\n",
      "15248\n"
     ]
    }
   ],
   "source": [
    "blastnCount('gltAout.txt')"
   ]
  },
  {
   "cell_type": "code",
   "execution_count": 21,
   "metadata": {},
   "outputs": [],
   "source": [
    "onlyHits('gltAout.txt','gltAoutOnlyHits.txt')"
   ]
  },
  {
   "cell_type": "code",
   "execution_count": 23,
   "metadata": {},
   "outputs": [],
   "source": [
    "toFasta('gltAoutOnlyHits.txt','gltAout.fasta')"
   ]
  },
  {
   "cell_type": "code",
   "execution_count": 24,
   "metadata": {},
   "outputs": [],
   "source": [
    "#dnaK\n",
    "toDb('dnaKrefs','dnaKref.fna')"
   ]
  },
  {
   "cell_type": "code",
   "execution_count": 32,
   "metadata": {},
   "outputs": [
    {
     "name": "stdout",
     "output_type": "stream",
     "text": [
      "140\n",
      "15248\n"
     ]
    }
   ],
   "source": [
    "blastnCount('dnaKout.txt')"
   ]
  },
  {
   "cell_type": "code",
   "execution_count": 26,
   "metadata": {},
   "outputs": [],
   "source": [
    "onlyHits('dnaKout.txt','dnaKoutOnlyHits.txt')"
   ]
  },
  {
   "cell_type": "code",
   "execution_count": 27,
   "metadata": {},
   "outputs": [],
   "source": [
    "toFasta('dnaKoutOnlyHits.txt','dnaKout.fasta')"
   ]
  },
  {
   "cell_type": "code",
   "execution_count": 28,
   "metadata": {},
   "outputs": [],
   "source": [
    "#rpoA\n",
    "toDb('rpoArefs','rpoAref.fna')"
   ]
  },
  {
   "cell_type": "code",
   "execution_count": 34,
   "metadata": {},
   "outputs": [
    {
     "name": "stdout",
     "output_type": "stream",
     "text": [
      "0\n",
      "15248\n"
     ]
    }
   ],
   "source": [
    "blastnCount('rpoAout.txt')"
   ]
  },
  {
   "cell_type": "code",
   "execution_count": 3,
   "metadata": {},
   "outputs": [],
   "source": [
    "#nifh\n",
    "toDb('nifHrefs','nifHref.fna')"
   ]
  },
  {
   "cell_type": "code",
   "execution_count": 6,
   "metadata": {},
   "outputs": [
    {
     "name": "stdout",
     "output_type": "stream",
     "text": [
      "101\n",
      "15248\n"
     ]
    }
   ],
   "source": [
    "blastnCount('nifHout.txt')"
   ]
  },
  {
   "cell_type": "code",
   "execution_count": 7,
   "metadata": {},
   "outputs": [],
   "source": [
    "onlyHits('nifHout.txt','nifHoutOnlyHits.txt')"
   ]
  },
  {
   "cell_type": "code",
   "execution_count": 9,
   "metadata": {},
   "outputs": [],
   "source": [
    "toFasta('nifHoutOnlyHits.txt','nifHout.fasta')"
   ]
  },
  {
   "cell_type": "code",
   "execution_count": 15,
   "metadata": {},
   "outputs": [],
   "source": [
    "removeMarks('nifHout.align','nifHflipped.fasta')"
   ]
  },
  {
   "cell_type": "code",
   "execution_count": 28,
   "metadata": {},
   "outputs": [],
   "source": [
    "originalTags('nifHflipped.fasta','nifHout.fasta','nifHformflip.fasta')"
   ]
  },
  {
   "cell_type": "code",
   "execution_count": 10,
   "metadata": {},
   "outputs": [],
   "source": [
    "#nodC\n",
    "toDb('nodCrefs','nodCref.fna')"
   ]
  },
  {
   "cell_type": "code",
   "execution_count": 12,
   "metadata": {},
   "outputs": [
    {
     "name": "stdout",
     "output_type": "stream",
     "text": [
      "98\n",
      "15248\n"
     ]
    }
   ],
   "source": [
    "blastnCount('nodCout.txt')"
   ]
  },
  {
   "cell_type": "code",
   "execution_count": 13,
   "metadata": {},
   "outputs": [],
   "source": [
    "onlyHits('nodCout.txt','nodCoutOnlyHits.txt')"
   ]
  },
  {
   "cell_type": "code",
   "execution_count": 14,
   "metadata": {},
   "outputs": [],
   "source": [
    "toFasta('nodCoutOnlyHits.txt','nodCout.fasta')"
   ]
  },
  {
   "cell_type": "code",
   "execution_count": 29,
   "metadata": {},
   "outputs": [],
   "source": [
    "removeMarks('nodCout.align','nodCflipped.fasta')"
   ]
  },
  {
   "cell_type": "code",
   "execution_count": 31,
   "metadata": {},
   "outputs": [],
   "source": [
    "originalTags('nodCflipped.fasta','nodCout.fasta','nodCformflip.fasta')"
   ]
  },
  {
   "cell_type": "code",
   "execution_count": 4,
   "metadata": {},
   "outputs": [],
   "source": [
    "#flip 4 genes\n",
    "removeMarks('16srRNAgpo.align','16srRNAgpoflip.fasta')"
   ]
  },
  {
   "cell_type": "code",
   "execution_count": null,
   "metadata": {},
   "outputs": [],
   "source": []
  }
 ],
 "metadata": {
  "kernelspec": {
   "display_name": "Python 3",
   "language": "python",
   "name": "python3"
  },
  "language_info": {
   "codemirror_mode": {
    "name": "ipython",
    "version": 3
   },
   "file_extension": ".py",
   "mimetype": "text/x-python",
   "name": "python",
   "nbconvert_exporter": "python",
   "pygments_lexer": "ipython3",
   "version": "3.6.5"
  }
 },
 "nbformat": 4,
 "nbformat_minor": 2
}
