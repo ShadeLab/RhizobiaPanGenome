{
 "cells": [
  {
   "cell_type": "code",
   "execution_count": 88,
   "metadata": {},
   "outputs": [],
   "source": [
    "import os\n",
    "import numpy as np\n",
    "\n",
    "\n",
    "                \n",
    "def toQuery(rootdir,outtxt,folderpos=0):\n",
    "    \n",
    "    #\n",
    "    \n",
    "    outfile = open(outtxt,'w')\n",
    "    \n",
    "    for subdir, dirs, files in os.walk(rootdir):\n",
    "        for i in range(len(files)):\n",
    "            if i == folderpos:\n",
    "                tempO = open(os.path.join(subdir, files[i]))\n",
    "                contents = tempO.read()\n",
    "                for i in range(len(contents)):\n",
    "                    outfile.write(contents[i])\n",
    "\n",
    "                    \n",
    "                    \n",
    "def toDb(rootdir,outfna):\n",
    "    \n",
    "    #\n",
    "    \n",
    "    outfile = open(outfna,'w')\n",
    "    \n",
    "    for subdir, dirs, files in os.walk(rootdir):\n",
    "        for i in range(len(files)):\n",
    "            tempO = open(os.path.join(subdir, files[i]))\n",
    "            contents = tempO.read()\n",
    "            for i in range(len(contents)):\n",
    "                outfile.write(contents[i])\n",
    "\n",
    "                \n",
    "\n",
    "def blastnCount(inOut):\n",
    "    \n",
    "    #\n",
    "    \n",
    "    blastnOut = open(inOut)\n",
    "    \n",
    "    seqcount = 0 #number of found matches\n",
    "    totcount = 0 #number of sequences found in query \n",
    "    \n",
    "    line = blastnOut.readline()\n",
    "    while line:\n",
    "        if (line == 'Sequences producing significant alignments:                          (Bits)  Value\\n'):\n",
    "            seqcount = seqcount + 1\n",
    "            totcount = totcount + 1\n",
    "        if (line == '***** No hits found *****\\n'):\n",
    "            totcount = totcount + 1\n",
    "        line = blastnOut.readline()\n",
    "    blastnOut.close()\n",
    "    print(seqcount)\n",
    "    print(totcount)\n",
    "\n",
    "\n",
    "\n",
    "def onlyHits(infile,outfile):\n",
    "    \n",
    "    #\n",
    "    \n",
    "    fullBlastn = open(infile)\n",
    "    onlyHits = open(outfile,'w')\n",
    "    \n",
    "    newblock = []\n",
    "    hitcheck = 0\n",
    "    \n",
    "    line = fullBlastn.readline()\n",
    "    while line:\n",
    "        if((line[0] == 'Q') and (line[5] == '=')):\n",
    "            if(newblock and hitcheck):\n",
    "                for i in range(len(newblock)):\n",
    "                    onlyHits.write(newblock[i])\n",
    "            newblock = []\n",
    "            hitcheck = 0 \n",
    "        if(line == 'Sequences producing significant alignments:                          (Bits)  Value\\n'):\n",
    "            hitcheck = 1\n",
    "        newblock.append(line)\n",
    "        line = fullBlastn.readline()\n",
    "    if(hitcheck):\n",
    "        for i in range(len(newblock)):\n",
    "            onlyHits.write(newblock[i])\n",
    "        newblock = []\n",
    "        hitcheck = 0\n",
    "    fullBlastn.close()\n",
    "            \n",
    "\n",
    "def toFasta(infile,outfile):\n",
    "    \n",
    "    #\n",
    "    \n",
    "    onlyHits = open(infile)\n",
    "    fasForm = open(outfile,'w')\n",
    "    \n",
    "    newline = ''\n",
    "    scorecheck = 0\n",
    "    \n",
    "    line = onlyHits.readline()\n",
    "    while line:\n",
    "        if(line[1:6] == \"Score\"):\n",
    "            scorecheck = scorecheck + 1\n",
    "        elif((line[0]) == 'Q') and (line[5] == '='):\n",
    "            scorecheck = 0\n",
    "            if(newline):\n",
    "                fasForm.write(newline)\n",
    "                fasForm.write('\\n')\n",
    "                newline = ''\n",
    "            fasForm.write('>')\n",
    "            check1 = 0\n",
    "            line = line[7:]\n",
    "            while(check1 == 0):\n",
    "                for i in range(len(line)):\n",
    "                    if(line[i] != '\\n'):\n",
    "                        fasForm.write(line[i])\n",
    "                    else:\n",
    "                        fasForm.write(' ')\n",
    "                line = onlyHits.readline()\n",
    "                if(len(line)<=1):\n",
    "                    check1 = 1\n",
    "            fasForm.write('\\n')\n",
    "        elif((line[0] == 'Q') and (line[5] != '=')):\n",
    "            if(scorecheck < 2):\n",
    "                for i in range(len(line)):\n",
    "                    if((line[i] == 'A' or line[i] == 'T') or (line[i] == 'C' or line[i] == 'G')):\n",
    "                        newline = newline + line[i]\n",
    "        line = onlyHits.readline()\n",
    "    fasForm.write(newline)\n",
    "    onlyHits.close()\n",
    "\n",
    "\n",
    "def lengthAve(infile,lowcut=0,highcut=1):\n",
    "    \n",
    "    #takes in onlyHits to fasta file. lowcut,hightcut are bottom and top percentile cutoffs for counting average length\n",
    "    #default parameters will average all sequences. \n",
    "    \n",
    "    inf = open(infile)\n",
    "    \n",
    "    alllengths = []\n",
    "    line = inf.readline()\n",
    "    while line:\n",
    "        if(line[0] != '>'):\n",
    "            curcount = 0\n",
    "            line = line[1:-1]\n",
    "            alllengths.append(len(line))\n",
    "        line = inf.readline()\n",
    "    inf.close()\n",
    "    \n",
    "    alllengths.sort()\n",
    "    numcount = 0\n",
    "    lencount = 0\n",
    "    for i in range(int(round(lowcut*len(alllengths))),int(round(highcut*len(alllengths)))):\n",
    "        numcount = numcount + 1\n",
    "        lencount = lencount + alllengths[i]\n",
    "        \n",
    "    print(lencount/numcount)\n",
    "    print(alllengths)\n",
    "    \n",
    "    \n",
    "def removeMarks(infile,outfile):\n",
    "    \n",
    "    #\n",
    "    \n",
    "    mothurAlign = open(infile)\n",
    "    out = open(outfile,'w')\n",
    "    \n",
    "    line = mothurAlign.readline()\n",
    "    while line:\n",
    "        for i in range(len(line)):\n",
    "            if((line[i] != '.') and (line[i] != '-')):\n",
    "                out.write(line[i])\n",
    "        line = mothurAlign.readline()\n",
    "    mothurAlign.close()\n",
    "    \n",
    "    \n",
    "def originalTags(infile,template,outfile):\n",
    "    \n",
    "    #\n",
    "    \n",
    "    inf = open(infile)\n",
    "    tem = open(template)\n",
    "    outf = open(outfile,'w')\n",
    "    \n",
    "    line = inf.readline()\n",
    "    line = tem.readline()\n",
    "    check = 1\n",
    "    while(line):\n",
    "        outf.write(line)\n",
    "        check = check * -1\n",
    "        if(check == -1):\n",
    "            line = tem.readline()\n",
    "            line = inf.readline()\n",
    "        else:\n",
    "            line = inf.readline()\n",
    "            line = tem.readline()\n",
    "        \n",
    "    inf.close()\n",
    "    tem.close()\n",
    "    \n",
    "def phylipFormat(infile,outfile,seqnum):\n",
    "    \n",
    "    #seqnum = '259\\n' if there are 259 sequences\n",
    "    \n",
    "    megaCSV = open(infile)\n",
    "    mothurPhylip = open(outfile,'w')\n",
    "    \n",
    "    mothurPhylip.write('259\\n')\n",
    "    \n",
    "    line = megaCSV.readline()\n",
    "    while line:\n",
    "        for i in range(len(line)):\n",
    "            if(line[i] == ','):\n",
    "                mothurPhylip.write('\\t')\n",
    "            else:\n",
    "                mothurPhylip.write(line[i])\n",
    "        line = megaCSV.readline()\n",
    "        if(line[0] == '\\n'):\n",
    "            line = ''\n",
    "    megaCSV.close()"
   ]
  },
  {
   "cell_type": "markdown",
   "metadata": {},
   "source": [
    "I'm leaving the previous processing of glnII from the other notebook to use as a reference"
   ]
  },
  {
   "cell_type": "code",
   "execution_count": 13,
   "metadata": {},
   "outputs": [],
   "source": [
    "#glnII\n",
    "toDb('glnIIrefs','glnIIref.fna')"
   ]
  },
  {
   "cell_type": "code",
   "execution_count": 18,
   "metadata": {},
   "outputs": [
    {
     "name": "stdout",
     "output_type": "stream",
     "text": [
      "218\n",
      "15248\n"
     ]
    }
   ],
   "source": [
    "blastnCount('glnIIout.txt')"
   ]
  },
  {
   "cell_type": "code",
   "execution_count": 16,
   "metadata": {},
   "outputs": [],
   "source": [
    "onlyHits('glnIIout.txt','glnIIoutOnlyHits.txt')"
   ]
  },
  {
   "cell_type": "code",
   "execution_count": 17,
   "metadata": {},
   "outputs": [],
   "source": [
    "toFasta('glnIIoutOnlyHits.txt','glnIIout.fasta')"
   ]
  },
  {
   "cell_type": "code",
   "execution_count": 38,
   "metadata": {},
   "outputs": [],
   "source": [
    "removeMarks('glnIIgpo.align','glnIIgpoflipped.fasta')"
   ]
  },
  {
   "cell_type": "code",
   "execution_count": 39,
   "metadata": {},
   "outputs": [],
   "source": [
    "originalTags('glnIIgpoflipped.fasta','glnIIgpo.fasta','glnIIgpoformflip.fasta')"
   ]
  },
  {
   "cell_type": "code",
   "execution_count": 60,
   "metadata": {},
   "outputs": [
    {
     "name": "stdout",
     "output_type": "stream",
     "text": [
      "1481.3034825870648\n",
      "[40, 45, 52, 52, 63, 65, 65, 71, 85, 87, 99, 108, 109, 116, 126, 130, 130, 134, 160, 167, 177, 220, 231, 242, 259, 259, 264, 266, 280, 309, 346, 421, 456, 466, 481, 562, 616, 663, 690, 721, 747, 929, 940, 964, 965, 994, 1120, 1132, 1151, 1160, 1253, 1275, 1283, 1299, 1300, 1310, 1354, 1370, 1381, 1386, 1386, 1386, 1400, 1405, 1405, 1405, 1405, 1459, 1472, 1472, 1472, 1472, 1472, 1472, 1472, 1472, 1472, 1472, 1472, 1472, 1472, 1472, 1472, 1472, 1472, 1472, 1472, 1474, 1474, 1474, 1476, 1476, 1478, 1478, 1479, 1480, 1480, 1480, 1480, 1480, 1480, 1480, 1480, 1480, 1480, 1480, 1480, 1480, 1480, 1480, 1480, 1480, 1480, 1480, 1480, 1480, 1480, 1480, 1480, 1480, 1480, 1480, 1480, 1480, 1480, 1480, 1480, 1480, 1480, 1480, 1480, 1480, 1480, 1480, 1480, 1480, 1480, 1480, 1480, 1480, 1480, 1480, 1480, 1480, 1480, 1480, 1480, 1480, 1480, 1480, 1480, 1480, 1480, 1480, 1480, 1480, 1480, 1480, 1480, 1480, 1480, 1480, 1480, 1480, 1480, 1480, 1480, 1480, 1480, 1480, 1480, 1480, 1480, 1480, 1480, 1480, 1480, 1480, 1480, 1480, 1480, 1480, 1480, 1480, 1480, 1480, 1480, 1480, 1480, 1480, 1480, 1480, 1480, 1480, 1480, 1480, 1480, 1480, 1480, 1480, 1480, 1480, 1480, 1480, 1480, 1480, 1480, 1480, 1480, 1480, 1480, 1480, 1480, 1480, 1480, 1480, 1480, 1480, 1480, 1480, 1480, 1480, 1480, 1480, 1480, 1480, 1480, 1480, 1480, 1480, 1480, 1480, 1480, 1480, 1482, 1482, 1482, 1482, 1482, 1482, 1484, 1484, 1484, 1484, 1484, 1484, 1484, 1484, 1484, 1484, 1484, 1484, 1484, 1484, 1484, 1484, 1484, 1484, 1484, 1484, 1484, 1484, 1484, 1484, 1484, 1484, 1484, 1484, 1484, 1484, 1484, 1484, 1484, 1484, 1484, 1484, 1484, 1484, 1484, 1484, 1484, 1484, 1484, 1484, 1484, 1484, 1484, 1486, 1486, 1486, 1486, 1490, 1494, 1497, 1497, 1497, 1497, 1497, 1497, 1499, 1499, 1499, 1499, 1499, 1499, 1499, 1500, 1501, 1501]\n"
     ]
    }
   ],
   "source": [
    "lengthAve('redo/16srRNAout.fasta',lowcut = 0.3,highcut = 0.95)\n"
   ]
  },
  {
   "cell_type": "markdown",
   "metadata": {},
   "source": [
    "All below is new"
   ]
  },
  {
   "cell_type": "code",
   "execution_count": 6,
   "metadata": {},
   "outputs": [
    {
     "name": "stdout",
     "output_type": "stream",
     "text": [
      "54\n",
      "265\n",
      "51\n",
      "265\n"
     ]
    }
   ],
   "source": [
    "blastnCount(\"plasmid_blast/plasmidnifHout.txt\")\n",
    "blastnCount(\"plasmid_blast/plasmidnodCout.txt\")"
   ]
  },
  {
   "cell_type": "code",
   "execution_count": 7,
   "metadata": {},
   "outputs": [],
   "source": [
    "onlyHits(\"plasmid_blast/plasmidnifHout.txt\",\"plasmid_blast/PnifHoutOH.txt\")\n",
    "onlyHits(\"plasmid_blast/plasmidnodCout.txt\",\"plasmid_blast/PnodCoutOH.txt\")"
   ]
  },
  {
   "cell_type": "code",
   "execution_count": 9,
   "metadata": {},
   "outputs": [],
   "source": [
    "toFasta(\"plasmid_blast/PnodCoutOH.txt\",\"plasmid_blast/PnodC.fasta\")\n",
    "toFasta(\"plasmid_blast/PnifHoutOH.txt\",\"plasmid_blast/PnifH.fasta\")"
   ]
  },
  {
   "cell_type": "code",
   "execution_count": 9,
   "metadata": {},
   "outputs": [],
   "source": [
    "#run to make table base for functional gene annotation\n",
    "\n",
    "import csv\n",
    "with open('csvs/fulluniquetable.csv','r') as f:\n",
    "    reader = csv.reader(f)\n",
    "    FUT = list(reader)\n",
    "    \n",
    "genpres = []\n",
    "\n",
    "for i in range(len(FUT)):\n",
    "    if(FUT[i][5] != '-'):\n",
    "        genpres.append([FUT[i][0],FUT[i][4],FUT[i][5]])"
   ]
  },
  {
   "cell_type": "code",
   "execution_count": 10,
   "metadata": {},
   "outputs": [],
   "source": [
    "#takes fasta from above old functions, base table from cell above, name of the gene to add column name\n",
    "#puts length of match instead of a binary \"1\" when a match exists \n",
    "\n",
    "\n",
    "import os\n",
    "\n",
    "def addpresLength(fasta,table,genename):\n",
    "    if(genename in table[0]):\n",
    "        return table\n",
    "    \n",
    "    preslist = []\n",
    "    lenlist = []\n",
    "    \n",
    "    fas = open(fasta)\n",
    "    line = fas.readline()\n",
    "    while(line):\n",
    "        if(line[0] == '>'):\n",
    "            curRS = \"\"\n",
    "            pos = 1\n",
    "            while(line[pos] != ' '):\n",
    "                curRS += line[pos]\n",
    "                pos += 1\n",
    "            preslist.append(curRS)\n",
    "        else:\n",
    "            lenlist.append(len(line) - 2)\n",
    "            \n",
    "        line = fas.readline()\n",
    "        \n",
    "    table[0].append(genename)\n",
    "    \n",
    "    for i in range(1, len(table)):\n",
    "        notfound = True\n",
    "        for j in range(len(preslist)):\n",
    "            if(table[i][2] == preslist[j]):\n",
    "                table[i].append(lenlist[j])\n",
    "                notfound = False\n",
    "        if(notfound):\n",
    "            table[i].append(0)\n",
    "        \n",
    "    \n",
    "    return table\n",
    "                \n",
    "            "
   ]
  },
  {
   "cell_type": "code",
   "execution_count": 105,
   "metadata": {},
   "outputs": [],
   "source": [
    "#takes the onlyHits output to create a fasta like score file of the highest score for plasmid\n",
    "#plasmids without matches will not be included in the score file\n",
    "\n",
    "\n",
    "def toScore(inf,outf):\n",
    "    \n",
    "    onlyHits = open(inf)\n",
    "    scoretext = open(outf,'w')\n",
    "    \n",
    "    scoretrack = []\n",
    "    \n",
    "    line = onlyHits.readline()\n",
    "    while(line):\n",
    "        if(line[0:7] == \"Query= \"):\n",
    "            if(len(scoretrack) > 0):\n",
    "                highscore = 0\n",
    "                for score in scoretrack:\n",
    "                    if(int(round(float(score))) > highscore):\n",
    "                        highscore = int(round(float(score)))\n",
    "                scoretext.write(str(highscore))\n",
    "                scoretext.write('\\n')\n",
    "            \n",
    "            scoretext.write('>')\n",
    "            line = line[7:]\n",
    "            while(len(line) > 1):\n",
    "                for i in range(len(line)):\n",
    "                    if(line[i] != '\\n'):\n",
    "                        scoretext.write(line[i])\n",
    "                    else:\n",
    "                        scoretext.write(' ')\n",
    "                line = onlyHits.readline()\n",
    "            scoretext.write('\\n')\n",
    "            \n",
    "            scoretrack = []\n",
    "        \n",
    "        if(line[1:9] == \"Score = \"):\n",
    "            curscore = \"\"\n",
    "            curpos = 9\n",
    "            while(line[curpos] != ' '):\n",
    "                curscore += line[curpos]\n",
    "                curpos += 1\n",
    "            scoretrack.append(curscore)\n",
    "            \n",
    "        line = onlyHits.readline()\n",
    "        \n",
    "    highscore = 0\n",
    "    for score in scoretrack:\n",
    "        if(int(score) > highscore):\n",
    "            highscore = int(score)\n",
    "    scoretext.write(str(highscore))\n",
    "\n",
    "    "
   ]
  },
  {
   "cell_type": "code",
   "execution_count": 11,
   "metadata": {},
   "outputs": [],
   "source": [
    "#tkaes in the score file from above, does same thing as \"addpresLength\" but with scores given by the blast output\n",
    "\n",
    "\n",
    "import os\n",
    "\n",
    "def addpresScore(scoretext,table,genename):\n",
    "    if(genename in table[0]):\n",
    "        return table\n",
    "    \n",
    "    preslist = []\n",
    "    scorelist = []\n",
    "    \n",
    "    scores = open(scoretext)\n",
    "    line = scores.readline()\n",
    "    while(line):\n",
    "        if(line[0] == '>'):\n",
    "            curRS = \"\"\n",
    "            pos = 1\n",
    "            while(line[pos] != ' '):\n",
    "                curRS += line[pos]\n",
    "                pos += 1\n",
    "            preslist.append(curRS)\n",
    "        else:\n",
    "            if(line[-1:] == '\\n'):\n",
    "                line = line[:-1]\n",
    "            scorelist.append(int(line))\n",
    "            \n",
    "        line = scores.readline()\n",
    "        \n",
    "    table[0].append(genename)\n",
    "    \n",
    "    for i in range(1, len(table)):\n",
    "        notfound = True\n",
    "        for j in range(len(preslist)):\n",
    "            if(table[i][2] == preslist[j]):\n",
    "                table[i].append(scorelist[j])\n",
    "                notfound = False\n",
    "        if(notfound):\n",
    "            table[i].append(0)\n",
    "        \n",
    "    \n",
    "    return table\n",
    "                \n",
    "            "
   ]
  },
  {
   "cell_type": "code",
   "execution_count": null,
   "metadata": {},
   "outputs": [],
   "source": [
    "toScore(\"plasmid_blast/PnifHoutOH.txt\",\"plasmid_blast/PnifHscore.txt\")"
   ]
  },
  {
   "cell_type": "code",
   "execution_count": null,
   "metadata": {},
   "outputs": [],
   "source": [
    "toScore(\"plasmid_blast/PnodCoutOH.txt\",\"plasmid_blast/PnodCscore.txt\")"
   ]
  },
  {
   "cell_type": "code",
   "execution_count": 13,
   "metadata": {},
   "outputs": [],
   "source": [
    "#rerun this when creating genpres \n",
    "\n",
    "\n",
    "genpres = addpresScore(\"plasmid_blast/PnifHscore.txt\",genpres,\"nifH\")\n",
    "genpres = addpresScore(\"plasmid_blast/PnodCscore.txt\",genpres,\"nodC\")"
   ]
  },
  {
   "cell_type": "markdown",
   "metadata": {},
   "source": [
    "Additional genes start here"
   ]
  },
  {
   "cell_type": "code",
   "execution_count": 22,
   "metadata": {},
   "outputs": [
    {
     "name": "stdout",
     "output_type": "stream",
     "text": [
      "40\n",
      "265\n"
     ]
    }
   ],
   "source": [
    "#fixA\n",
    "#this runthrough should be more organized than above and should be a good template for further additions\n",
    "\n",
    "blastnCount(\"plasmid_blast/fixAout.txt\")\n"
   ]
  },
  {
   "cell_type": "code",
   "execution_count": 87,
   "metadata": {},
   "outputs": [],
   "source": [
    "onlyHits(\"plasmid_blast/fixAout.txt\",\"plasmid_blast/fixAoutOH.txt\")"
   ]
  },
  {
   "cell_type": "code",
   "execution_count": 25,
   "metadata": {},
   "outputs": [],
   "source": [
    "toScore(\"plasmid_blast/fixAoutOH.txt\",\"plasmid_blast/fixAscore.txt\")"
   ]
  },
  {
   "cell_type": "code",
   "execution_count": 26,
   "metadata": {},
   "outputs": [],
   "source": [
    "genpres = addpresScore(\"plasmid_blast/fixAscore.txt\",genpres,\"fixA\")"
   ]
  },
  {
   "cell_type": "code",
   "execution_count": 83,
   "metadata": {},
   "outputs": [
    {
     "name": "stdout",
     "output_type": "stream",
     "text": [
      "0\n",
      "265\n"
     ]
    }
   ],
   "source": [
    "#acpP\n",
    "\n",
    "blastnCount(\"plasmid_blast/acpPout.txt\")"
   ]
  },
  {
   "cell_type": "code",
   "execution_count": 95,
   "metadata": {},
   "outputs": [
    {
     "name": "stdout",
     "output_type": "stream",
     "text": [
      "55\n",
      "265\n"
     ]
    }
   ],
   "source": [
    "#actP\n",
    "\n",
    "blastnCount(\"plasmid_blast/actPout.txt\")"
   ]
  },
  {
   "cell_type": "code",
   "execution_count": 106,
   "metadata": {},
   "outputs": [],
   "source": [
    "onlyHits(\"plasmid_blast/actPout.txt\",\"plasmid_blast/actPoutOH.txt\")"
   ]
  },
  {
   "cell_type": "code",
   "execution_count": 108,
   "metadata": {},
   "outputs": [],
   "source": [
    "toScore(\"plasmid_blast/actPoutOH.txt\",\"plasmid_blast/actPscore.txt\")"
   ]
  },
  {
   "cell_type": "code",
   "execution_count": 110,
   "metadata": {},
   "outputs": [],
   "source": [
    "genpres = addpresScore(\"plasmid_blast/actPscore.txt\",genpres,\"actP\")"
   ]
  },
  {
   "cell_type": "code",
   "execution_count": 112,
   "metadata": {},
   "outputs": [
    {
     "name": "stdout",
     "output_type": "stream",
     "text": [
      "0\n",
      "265\n"
     ]
    }
   ],
   "source": [
    "#amtB\n",
    "\n",
    "blastnCount(\"plasmid_blast/amtBout.txt\")"
   ]
  },
  {
   "cell_type": "code",
   "execution_count": 113,
   "metadata": {},
   "outputs": [
    {
     "name": "stdout",
     "output_type": "stream",
     "text": [
      "38\n",
      "265\n"
     ]
    }
   ],
   "source": [
    "#hemA\n",
    "\n",
    "blastnCount(\"plasmid_blast/hemAout.txt\")"
   ]
  },
  {
   "cell_type": "code",
   "execution_count": 114,
   "metadata": {},
   "outputs": [],
   "source": [
    "onlyHits(\"plasmid_blast/hemAout.txt\",\"plasmid_blast/hemAoutOH.txt\")"
   ]
  },
  {
   "cell_type": "code",
   "execution_count": 115,
   "metadata": {},
   "outputs": [],
   "source": [
    "toScore(\"plasmid_blast/hemAoutOH.txt\",\"plasmid_blast/hemAscore.txt\")"
   ]
  },
  {
   "cell_type": "code",
   "execution_count": 117,
   "metadata": {},
   "outputs": [],
   "source": [
    "genpres = addpresScore(\"plasmid_blast/hemAscore.txt\",genpres,\"hemA\")"
   ]
  },
  {
   "cell_type": "code",
   "execution_count": 118,
   "metadata": {},
   "outputs": [
    {
     "name": "stdout",
     "output_type": "stream",
     "text": [
      "0\n",
      "265\n"
     ]
    }
   ],
   "source": [
    "#modB\n",
    "\n",
    "blastnCount(\"plasmid_blast/modBout.txt\")"
   ]
  },
  {
   "cell_type": "code",
   "execution_count": null,
   "metadata": {},
   "outputs": [],
   "source": []
  },
  {
   "cell_type": "code",
   "execution_count": null,
   "metadata": {},
   "outputs": [],
   "source": []
  },
  {
   "cell_type": "markdown",
   "metadata": {},
   "source": [
    "Saving table as csv below here. Should probably rename the file with each save to not overwrite\n",
    "\n",
    "I probably should also write functions for these."
   ]
  },
  {
   "cell_type": "code",
   "execution_count": 123,
   "metadata": {},
   "outputs": [],
   "source": [
    "#LIST TO TEXT\n",
    "\n",
    "import os\n",
    "\n",
    "funcplas = open(\"plasmid_blast/funcpres2.txt\",'w')\n",
    "\n",
    "for i in range(len(genpres)):\n",
    "    for j in range(len(genpres[i])):\n",
    "        funcplas.write(str(genpres[i][j]))\n",
    "        if(j < (len(genpres[i]) - 1)):\n",
    "            funcplas.write('\\t')\n",
    "    funcplas.write('\\n')"
   ]
  },
  {
   "cell_type": "code",
   "execution_count": 124,
   "metadata": {},
   "outputs": [],
   "source": [
    "#TEXT TO CSV \n",
    "\n",
    "import csv\n",
    "\n",
    "txt_file = r\"plasmid_blast/funcpres2.txt\"\n",
    "csv_file = r\"plasmid_blast/funcpres2.csv\"\n",
    "\n",
    "with open(txt_file, \"r\") as in_text:\n",
    "    in_reader = csv.reader(in_text, delimiter = '\\t')\n",
    "    with open(csv_file, \"w\") as out_csv:\n",
    "        out_writer = csv.writer(out_csv)\n",
    "        for row in in_reader:\n",
    "            out_writer.writerow(row)"
   ]
  },
  {
   "cell_type": "markdown",
   "metadata": {},
   "source": [
    "Adding symbiotic gene information to the 2 inf tables"
   ]
  },
  {
   "cell_type": "code",
   "execution_count": 122,
   "metadata": {},
   "outputs": [
    {
     "data": {
      "text/plain": [
       "266"
      ]
     },
     "execution_count": 122,
     "metadata": {},
     "output_type": "execute_result"
    }
   ],
   "source": [
    "len(genpres)"
   ]
  },
  {
   "cell_type": "code",
   "execution_count": 129,
   "metadata": {},
   "outputs": [],
   "source": [
    "symbiotic = []\n",
    "\n",
    "for i in range(1,len(genpres)):\n",
    "    curcount = 0\n",
    "    for j in range(3):\n",
    "        if(genpres[i][j+3] != 0):\n",
    "            curcount += 1\n",
    "    if(curcount >= 2):\n",
    "        symbiotic.append([genpres[i][0],genpres[i][2]])"
   ]
  },
  {
   "cell_type": "code",
   "execution_count": 132,
   "metadata": {},
   "outputs": [
    {
     "data": {
      "text/plain": [
       "['Rhizobium etli', 'NZ_CP020910.1']"
      ]
     },
     "execution_count": 132,
     "metadata": {},
     "output_type": "execute_result"
    }
   ],
   "source": [
    "symbiotic[0]"
   ]
  },
  {
   "cell_type": "code",
   "execution_count": 143,
   "metadata": {},
   "outputs": [],
   "source": [
    "#CSV TO LIST\n",
    "import csv\n",
    "with open('csvs/plasmidinf.csv','r') as f:\n",
    "    reader = csv.reader(f)\n",
    "    plasmidinf = list(reader)"
   ]
  },
  {
   "cell_type": "code",
   "execution_count": 149,
   "metadata": {},
   "outputs": [],
   "source": [
    "plasmidinf[0].insert(8,\"Symbiotic\")\n",
    "\n",
    "for i in range(1,len(plasmidinf)):\n",
    "    found = False\n",
    "    for j in range(len(symbiotic)):\n",
    "        if(plasmidinf[i][6] == symbiotic[j][1]):\n",
    "            found = True\n",
    "            symbiotic[j].append(plasmidinf[i][0])\n",
    "            symbiotic[j].append(plasmidinf[i][5])\n",
    "            continue\n",
    "    if(found):\n",
    "        plasmidinf[i].insert(8,\"Yes\")\n",
    "    else:\n",
    "        plasmidinf[i].insert(8,'')\n",
    "    "
   ]
  },
  {
   "cell_type": "code",
   "execution_count": 142,
   "metadata": {},
   "outputs": [],
   "source": [
    "import csv\n",
    "with open('csvs/organisminf.csv','r') as f:\n",
    "    reader = csv.reader(f)\n",
    "    organisminf = list(reader)"
   ]
  },
  {
   "cell_type": "code",
   "execution_count": 155,
   "metadata": {},
   "outputs": [],
   "source": [
    "organisminf[0].insert(2,\"Symbiotic plasmid\")\n",
    "\n",
    "for i in range(1,len(organisminf)):\n",
    "    found = False\n",
    "    foundind = 999\n",
    "    for j in range(len(symbiotic)):\n",
    "        if(symbiotic[j][2] == organisminf[i][0]):\n",
    "            found = True\n",
    "            foundind = j \n",
    "            continue\n",
    "    if(found):\n",
    "        organisminf[i].insert(2,symbiotic[foundind][3])\n",
    "    else:\n",
    "        organisminf[i].insert(2,'')"
   ]
  },
  {
   "cell_type": "code",
   "execution_count": 161,
   "metadata": {},
   "outputs": [],
   "source": [
    "#LIST TO TEXT\n",
    "\n",
    "import os\n",
    "\n",
    "funcplas = open(\"plasmid_blast/organisminf.txt\",'w')\n",
    "\n",
    "for i in range(len(organisminf)):\n",
    "    for j in range(len(organisminf[i])):\n",
    "        funcplas.write(str(organisminf[i][j]))\n",
    "        if(j < (len(organisminf[i]) - 1)):\n",
    "            funcplas.write('\\t')\n",
    "    funcplas.write('\\n')\n",
    "funcplas.close()\n",
    "\n",
    "funcplas = open(\"plasmid_blast/plasmidinf.txt\",'w')\n",
    "\n",
    "for i in range(len(plasmidinf)):\n",
    "    for j in range(len(plasmidinf[i])):\n",
    "        funcplas.write(str(plasmidinf[i][j]))\n",
    "        if(j < (len(plasmidinf[i]) - 1)):\n",
    "            funcplas.write('\\t')\n",
    "    funcplas.write('\\n')\n",
    "funcplas.close()"
   ]
  },
  {
   "cell_type": "code",
   "execution_count": 162,
   "metadata": {},
   "outputs": [],
   "source": [
    "#TEXT TO CSV \n",
    "\n",
    "import csv\n",
    "\n",
    "txt_file = r\"plasmid_blast/organisminf.txt\"\n",
    "csv_file = r\"plasmid_blast/organisminf.csv\"\n",
    "\n",
    "with open(txt_file, \"r\") as in_text:\n",
    "    in_reader = csv.reader(in_text, delimiter = '\\t')\n",
    "    with open(csv_file, \"w\") as out_csv:\n",
    "        out_writer = csv.writer(out_csv)\n",
    "        for row in in_reader:\n",
    "            out_writer.writerow(row)\n",
    "            \n",
    "txt_file = r\"plasmid_blast/plasmidinf.txt\"\n",
    "csv_file = r\"plasmid_blast/plasmidinf.csv\"\n",
    "\n",
    "with open(txt_file, \"r\") as in_text:\n",
    "    in_reader = csv.reader(in_text, delimiter = '\\t')\n",
    "    with open(csv_file, \"w\") as out_csv:\n",
    "        out_writer = csv.writer(out_csv)\n",
    "        for row in in_reader:\n",
    "            out_writer.writerow(row)"
   ]
  },
  {
   "cell_type": "markdown",
   "metadata": {},
   "source": [
    "Retrieving gap data from NCBI - something that might have to be done manually\n",
    "\n",
    "I'll probably create an independently formatted table then incorporate that into the main one somehow"
   ]
  },
  {
   "cell_type": "code",
   "execution_count": 340,
   "metadata": {},
   "outputs": [],
   "source": [
    "import os\n",
    "\n",
    "def singleretrieve(infile):\n",
    "    \n",
    "    single = open(infile)\n",
    "    \n",
    "    outtab = []\n",
    "    #    outtab formatting - \n",
    "    #file name\n",
    "    #header name (line 1)\n",
    "    #sample name (line 2)\n",
    "    #organism (line 3)\n",
    "    #attributes - sub list or 2 pair lists (line 4 onwards)\n",
    "    #description  (after attributes)\n",
    "    #(skip ketwords if present) biosample accession\n",
    "    #\"ID\" - same line as biosample\n",
    "    \n",
    "    #file name\n",
    "    outtab.append(infile)\n",
    "    \n",
    "    #header name\n",
    "    line = single.readline()\n",
    "    line = line[3:-1]\n",
    "    outtab.append(line)\n",
    "    \n",
    "    #sample name\n",
    "    line = single.readline()\n",
    "    key1 = \"Sample name: \"\n",
    "    pos = line.find(key1) + len(key1)\n",
    "    sample = \"\"\n",
    "    while(line[pos] != '\\n' and line[pos] != ';'):\n",
    "        sample += line[pos]\n",
    "        pos += 1\n",
    "    outtab.append(sample)\n",
    "    \n",
    "    #organism\n",
    "    line = single.readline()\n",
    "    key2 = \"Organism: \"\n",
    "    line = line[(line.find(key2) + len(key2)):-1]\n",
    "    outtab.append(line)\n",
    "    \n",
    "    #attributes\n",
    "    line = single.readline()\n",
    "    line = single.readline()\n",
    "    fullatt = []\n",
    "    while(line[4] == \"/\"):\n",
    "        curatt = []\n",
    "        curlabel = \"\"\n",
    "        pos = 5\n",
    "        while(line[pos] != '='):\n",
    "            curlabel += line[pos]\n",
    "            pos += 1\n",
    "        curatt.append(curlabel)\n",
    "        pos += 2\n",
    "        curentry = \"\"\n",
    "        while(line[pos] != '\\\"'):\n",
    "            curentry += line[pos]\n",
    "            pos += 1\n",
    "        curatt.append(curentry)\n",
    "        fullatt.append(curatt)\n",
    "        line = single.readline()\n",
    "    outtab.append(fullatt)\n",
    "    \n",
    "    #description\n",
    "    if(line.find(\"Description\") != -1):\n",
    "        line = single.readline()\n",
    "        outtab.append(line[:-1])\n",
    "    else:\n",
    "        outtab.append(\"No description\")\n",
    "    \n",
    "    #biosample and ID\n",
    "    if(outtab[-1] != \"No description\"):\n",
    "        line = single.readline()\n",
    "    key3 = \"Accession: \"\n",
    "    key4 = \"ID: \"\n",
    "    while(line.find(key3) == -1):\n",
    "        line = single.readline()\n",
    "    biosamp = line[(line.find(key3) + len(key3)):(line.find(key4) - 1)]\n",
    "    theid = line[(line.find(key4) + len(key4)):(len(line) - 1)]\n",
    "    outtab.append(biosamp)\n",
    "    outtab.append(theid)\n",
    "    \n",
    "    return(outtab)\n",
    "    "
   ]
  },
  {
   "cell_type": "code",
   "execution_count": 341,
   "metadata": {},
   "outputs": [],
   "source": [
    "singleheader = [\"File name\",\"Header name\",\"Sample name\",\"Organism\",\"Attributes\",\"Description\",\"Biosample acession\",\"ID\"]"
   ]
  },
  {
   "cell_type": "code",
   "execution_count": 342,
   "metadata": {},
   "outputs": [],
   "source": [
    "#all 13 NCBI files in 1 list\n",
    "\n",
    "def fullretrieve(directory):\n",
    "    \n",
    "    fulllist = []\n",
    "    \n",
    "    for subdir, dirs, files in os.walk(directory):\n",
    "        for i in range(len(files)):\n",
    "            filename = directory + \"/\" + files[i]\n",
    "            print(filename)\n",
    "            curlist = singleretrieve(filename)\n",
    "            fulllist.append(curlist)\n",
    "    \n",
    "    return(fulllist)\n",
    "            "
   ]
  },
  {
   "cell_type": "code",
   "execution_count": 343,
   "metadata": {},
   "outputs": [
    {
     "name": "stdout",
     "output_type": "stream",
     "text": [
      "gapinf/biosample_result(9).txt\n",
      "gapinf/biosample_result(11).txt\n",
      "gapinf/biosample_result(7).txt\n",
      "gapinf/biosample_result(4).txt\n",
      "gapinf/biosample_result(3).txt\n",
      "gapinf/biosample_result(2).txt\n",
      "gapinf/biosample_result(6).txt\n",
      "gapinf/biosample_result(12).txt\n",
      "gapinf/biosample_result(10).txt\n",
      "gapinf/biosample_result.txt\n",
      "gapinf/biosample_result(1).txt\n",
      "gapinf/biosample_result(8).txt\n",
      "gapinf/biosample_result(5).txt\n"
     ]
    }
   ],
   "source": [
    "fullgaplist = fullretrieve(\"gapinf\")"
   ]
  },
  {
   "cell_type": "code",
   "execution_count": 346,
   "metadata": {},
   "outputs": [],
   "source": [
    "allattributes = []\n",
    "attributecount = []\n",
    "for i in range(len(fullgaplist)):\n",
    "    for j in range(len(fullgaplist[i][4])):\n",
    "        pos = -1\n",
    "        for k in range(len(allattributes)):\n",
    "            if(allattributes[k] == fullgaplist[i][4][j][0]):\n",
    "                pos = k\n",
    "                continue\n",
    "        if(pos == -1):\n",
    "            allattributes.append(fullgaplist[i][4][j][0])\n",
    "            attributecount.append(1)\n",
    "        else:\n",
    "            attributecount[pos] += 1"
   ]
  },
  {
   "cell_type": "code",
   "execution_count": 452,
   "metadata": {},
   "outputs": [
    {
     "name": "stdout",
     "output_type": "stream",
     "text": [
      "strain                             \t13\n",
      "collection date                    \t13\n",
      "geographic location                \t13\n",
      "host                               \t11\n",
      "broad-scale environmental context  \t9\n",
      "latitude and longitude             \t9\n",
      "sample type                        \t7\n",
      "isolation and growth condition     \t6\n",
      "local-scale environmental context  \t6\n",
      "number of replicons                \t6\n",
      "reference for biomaterial          \t6\n",
      "environmental medium               \t6\n",
      "temperature                        \t5\n",
      "biomaterial provider               \t4\n",
      "collected by                       \t4\n",
      "culture collection                 \t4\n",
      "isolation source                   \t4\n",
      "mating type                        \t3\n",
      "host tissue sampled                \t3\n",
      "serotype                           \t3\n",
      "sample size                        \t3\n",
      "depth                              \t3\n",
      "passage history                    \t3\n",
      "altitude                           \t3\n",
      "genotype                           \t2\n",
      "identified by                      \t2\n",
      "lab host                           \t2\n",
      "serovar                            \t2\n",
      "specimen voucher                   \t2\n",
      "biovar                             \t2\n",
      "observed biotic relationship       \t1\n",
      "encoded traits                     \t1\n",
      "extrachromosomal elements          \t1\n",
      "pathogenicity                      \t1\n",
      "relationship to oxygen             \t1\n",
      "trophic level                      \t1\n",
      "type-material                      \t1\n",
      "isolate                            \t1\n"
     ]
    }
   ],
   "source": [
    "for i in range(len(allattributes)):\n",
    "    curprint = allattributes[i]\n",
    "    for j in range(35 - len(allattributes[i])):\n",
    "        curprint += \" \"\n",
    "    curprint += \"\\t\"\n",
    "    curprint += str(attributecount[i])\n",
    "    print(curprint)"
   ]
  },
  {
   "cell_type": "markdown",
   "metadata": {},
   "source": [
    "Polish/gather components to create usable table for csv conversion"
   ]
  },
  {
   "cell_type": "code",
   "execution_count": 355,
   "metadata": {},
   "outputs": [],
   "source": [
    "#find original species tags/numbers to compare easily to other 2 main tables\n",
    "\n",
    "#batchgap.txt is in same order as file downloads\n",
    "\n",
    "import os\n",
    "\n",
    "batchorder = []\n",
    "batchgap = open(\"batchgap.txt\")\n",
    "\n",
    "line = batchgap.readline()\n",
    "while(line):\n",
    "    if(line[-1:] == '\\n'):\n",
    "        line = line [:-1]\n",
    "    batchorder.append([line,-1])\n",
    "    line = batchgap.readline()\n",
    "    \n",
    "orginf = open(\"csvs/organisminf.txt\")\n",
    "\n",
    "line = orginf.readline()\n",
    "while(line):\n",
    "    curnum = \"\"\n",
    "    curname = \"\"\n",
    "    curpos = 0\n",
    "    while(line[curpos] != \"\\t\"):\n",
    "        curnum += line[curpos]\n",
    "        curpos += 1\n",
    "    curpos += 1\n",
    "    while(line[curpos] != '\\t'):\n",
    "        curname += line[curpos]\n",
    "        curpos += 1\n",
    "    for i in range(len(batchorder)):\n",
    "        if(batchorder[i][0] == curname):\n",
    "            batchorder[i][1] = curnum\n",
    "    line = orginf.readline()\n",
    "    "
   ]
  },
  {
   "cell_type": "code",
   "execution_count": 360,
   "metadata": {},
   "outputs": [
    {
     "data": {
      "text/plain": [
       "['Rhizobium etli strain NXC12', '0']"
      ]
     },
     "execution_count": 360,
     "metadata": {},
     "output_type": "execute_result"
    }
   ],
   "source": [
    "batchorder[0]"
   ]
  },
  {
   "cell_type": "code",
   "execution_count": 365,
   "metadata": {},
   "outputs": [],
   "source": [
    "#add original names and numbers to fullgaplist using batchorder\n",
    "\n",
    "singleheader = [\"File name\",\"Header name\",\"Sample name\",\"Organism\",\"Attributes\",\"Description\",\"Biosample acession\",\"ID\",\"ognum\",\"ogname\"]\n",
    "\n",
    "for i in range(len(fullgaplist)):\n",
    "    curfile = fullgaplist[i][0]\n",
    "    curnum = \"\"\n",
    "    pos = curfile.find(\"(\") + 1\n",
    "    if(pos == 0):\n",
    "        curnum = \"0\"\n",
    "    else:\n",
    "        while(curfile[pos] != \")\"):\n",
    "            curnum += curfile[pos]\n",
    "            pos += 1\n",
    "    \n",
    "    curnum = int(curnum)\n",
    "    fullgaplist[i].append(batchorder[curnum][1])\n",
    "    fullgaplist[i].append(batchorder[curnum][0])"
   ]
  },
  {
   "cell_type": "code",
   "execution_count": 367,
   "metadata": {},
   "outputs": [
    {
     "data": {
      "text/plain": [
       "['gapinf/biosample_result(9).txt',\n",
       " 'MIGS Cultured Bacterial/Archaeal sample from Rhizobium sp. CCGE531',\n",
       " 'CCGE531',\n",
       " 'Rhizobium sp. CCGE531',\n",
       " [['strain', 'CCGE531'],\n",
       "  ['collection date', 'June-2016'],\n",
       "  ['broad-scale environmental context', 'terrestrial biome'],\n",
       "  ['local-scale environmental context', 'soil'],\n",
       "  ['environmental medium', 'agricultural soil'],\n",
       "  ['geographic location', 'Mexico: Veracruz, Ayahualulco, Ocotepec'],\n",
       "  ['host', 'Phaseolus'],\n",
       "  ['isolation and growth condition', 'PY at 28 degrees'],\n",
       "  ['latitude and longitude', '19 N 97 W'],\n",
       "  ['number of replicons', '5'],\n",
       "  ['reference for biomaterial',\n",
       "   'Rhizobium etli, R. leguminosarum and a new Rhizobium genospecies from Phaseolus dumosus']],\n",
       " 'Rhizobium etli, R. leguminosarum and a new Rhizobium genospecies from Phaseolus dumosus',\n",
       " 'SAMN10118218',\n",
       " '10118218',\n",
       " '42',\n",
       " 'Rhizobium sp. CCGE531']"
      ]
     },
     "execution_count": 367,
     "metadata": {},
     "output_type": "execute_result"
    }
   ],
   "source": [
    "fullgaplist[0]"
   ]
  },
  {
   "cell_type": "code",
   "execution_count": 368,
   "metadata": {},
   "outputs": [],
   "source": [
    "#manually enter relevent attributes from description, make copy of fullgaplist to revert if mistakes are made\n",
    "\n",
    "import numpy as np\n",
    "fgl2 = np.copy(fullgaplist)\n",
    "fgl2 = np.ndarray.tolist(fgl2)"
   ]
  },
  {
   "cell_type": "code",
   "execution_count": 410,
   "metadata": {},
   "outputs": [
    {
     "name": "stdout",
     "output_type": "stream",
     "text": [
      "Rhizobium pusense strain CFBP5875\n",
      " \n",
      "Academia Sinica, Chih-Horng Kuo\n",
      " \n",
      "strain                             CFBP5875\n",
      "collection date                    NA\n",
      "broad-scale environmental context  NA\n",
      "local-scale environmental context  NA\n",
      "environmental medium               NA\n",
      "geographic location                NA\n",
      "isolation and growth condition     NA\n",
      "latitude and longitude             NA\n",
      "number of replicons                NA\n",
      "reference for biomaterial          NA\n"
     ]
    }
   ],
   "source": [
    "cur = fullgaplist[11]\n",
    "print(cur[len(cur)-1])\n",
    "print(\" \")\n",
    "print(cur[5])\n",
    "print(\" \")\n",
    "maxlen = 0\n",
    "for i in range(len(cur[4])):\n",
    "    if(len(cur[4][i][0]) > maxlen):\n",
    "        maxlen = len(cur[4][i][0])\n",
    "maxlen += 2\n",
    "for i in range(len(cur[4])):\n",
    "    curprint = cur[4][i][0]\n",
    "    for j in range(maxlen - len(cur[4][i][0])):\n",
    "        curprint += \" \"\n",
    "    curprint += cur[4][i][1]\n",
    "    print(curprint)"
   ]
  },
  {
   "cell_type": "code",
   "execution_count": 413,
   "metadata": {},
   "outputs": [
    {
     "name": "stdout",
     "output_type": "stream",
     "text": [
      "['host', 'pea plant, Pisum sativum']\n"
     ]
    }
   ],
   "source": [
    "fgl2[4][4][1][1] = \"red clover, Trifolium praetense\"\n",
    "fgl2[4][4][3][1] = \"USA: Arlington Farms, VA\"\n",
    "fgl2[11][4][5][1] = \"Taiwan\"\n",
    "fgl2[12][4][2][1] = \"pea plant, Pisum sativum\"\n",
    "\n",
    "print(fgl2[12][4][2])"
   ]
  },
  {
   "cell_type": "markdown",
   "metadata": {},
   "source": [
    "---manual description entry doc--\n",
    "\n",
    "Rhizobium sp. CCGE531 - no additional information\n",
    "\n",
    "Rhizobium sp. N4311 - no additional information\n",
    "\n",
    "Rhizobium jaguaris strain CCGE525 - no additional information\n",
    "\n",
    "Rhizobium leguminosarum bv. viciae strain BIHB 1148 - no additional information\n",
    "\n",
    "Rhizobium leguminosarum strain ATCC 14479 - \"Rhizobium leguminosarum ATCC 14479 was obtained from the American Type Culture Collection. It was isolated at Arlington Farms, VA and is most effective on the red clover, Trifolium praetense.\" \n",
    " - geographic location changed from \"Not applicable\" to \"USA: Arlington Farms, VA\"\n",
    " - host changed from \"Not applicable\" to \"red clover, Trifolium praetense\"\n",
    "\n",
    "Rhizobium leguminosarum strain Norway - no discription was available\n",
    "\n",
    "Rhizobium leguminosarum bv. viciae strain UPM791 - \"This endosymbiotic bacteria belongs to the biovar viciae, able to nodulate legumes in the Tribe Viciae (Pisum, Lens, Vicia, Lathyrus, ). This strain is streptomycin-resistant. The host-specificity and nitrogen fixation genes are carried on large plasmids (of which it has 5).\" is useful information but nothing will be added to attributes\n",
    "\n",
    "Rhizobium sp. TAL182 - no additional information\n",
    "\n",
    "Rhizobium sp. CCGE532 - no additional information\n",
    "\n",
    "Rhizobium etli strain NXC12 - no additional information\n",
    "\n",
    "Rhizobium leguminosarum strain Vaf-108 - no additional information\n",
    "\n",
    "Rhizobium pusense strain CFBP5875 - \"Academia Sinica, Chih-Horng Kuo\" this was manually added by me as the name was available on the NCBI page somewhere. This person/Academia Sinica is located in Taiwan so that will be assumed as the location\n",
    " - geographic location changed from \"NA\" to \"Taiwan\"\n",
    " \n",
    "Rhizobium leguminosarum bv. viciae strain BIHB 1217 - \"Plant growth promoting nitrogen-fixing microbial inoculant for pea\"\n",
    " - host change from \"not applicable\" to \"pea plant, Pisum sativum\"\n"
   ]
  },
  {
   "cell_type": "code",
   "execution_count": 448,
   "metadata": {},
   "outputs": [],
   "source": [
    "#sort allattributes from highest to lowest data count using attributecount\n",
    "\n",
    "def attsort(allatt,attcount):\n",
    "    cont = True\n",
    "    while(cont):\n",
    "        cont = False\n",
    "        curlow = attcount[0]\n",
    "        moveind = -1\n",
    "        for i in range(len(attcount)):\n",
    "            if(attcount[i] > curlow):\n",
    "                moveind = i\n",
    "                cont = True\n",
    "                break\n",
    "            if(attcount[i] < curlow):\n",
    "                curlow = attcount[i]\n",
    "                \n",
    "        if(moveind != -1):\n",
    "            swapind = -1\n",
    "            for j in range(len(attcount)):\n",
    "                if(attcount[moveind] > attcount[j]):\n",
    "                    swapind = j\n",
    "                    break\n",
    "            if(swapind == -1):\n",
    "                print(\"You broke it\")\n",
    "            tempall = allatt[moveind]\n",
    "            allatt[moveind] = allatt[swapind]\n",
    "            allatt[swapind] = tempall\n",
    "            tempcount = attcount[moveind]\n",
    "            attcount[moveind] = attcount[swapind]\n",
    "            attcount[swapind] = tempcount"
   ]
  },
  {
   "cell_type": "code",
   "execution_count": 451,
   "metadata": {},
   "outputs": [],
   "source": [
    "attsort(allattributes,attributecount)"
   ]
  },
  {
   "cell_type": "code",
   "execution_count": 458,
   "metadata": {},
   "outputs": [],
   "source": [
    "#apply it to fgl2 to be in numerical organism number\n",
    "\n",
    "import numpy as np\n",
    "flg3 = np.copy(fgl2)\n",
    "flg3 = np.ndarray.tolist(flg3)\n",
    "\n",
    "flgorder = []\n",
    "for i in range(len(flg3)):\n",
    "    flgorder.append(int(flg3[i][8]))"
   ]
  },
  {
   "cell_type": "code",
   "execution_count": 466,
   "metadata": {},
   "outputs": [],
   "source": [
    "attsort(flg3,flgorder)\n",
    "flg3.reverse()"
   ]
  },
  {
   "cell_type": "markdown",
   "metadata": {},
   "source": [
    "Create table for csv conversion using above components\n",
    "\n",
    "Organization should be\n",
    " - My assigned organism number (8)\n",
    " - #Organism/name used on other 2 tables (9)\n",
    " - Symbiotic plasmid (taken from organisminf table, will need to import\n",
    " - header name (1)\n",
    " - sample name (2)\n",
    " - organism (3)\n",
    " - biosample accession (6)\n",
    " - ID (7)\n",
    " - The 38 now sort attributes (4) - will need to add these differently\n",
    " "
   ]
  },
  {
   "cell_type": "code",
   "execution_count": 478,
   "metadata": {},
   "outputs": [
    {
     "name": "stdout",
     "output_type": "stream",
     "text": [
      "File name\n",
      "Header name\n",
      "Sample name\n",
      "Organism\n",
      "Attributes\n",
      "Description\n",
      "Biosample acession\n",
      "ID\n",
      "ognum\n",
      "ogname\n"
     ]
    }
   ],
   "source": [
    "for i in range(len(singleheader)):\n",
    "    print(singleheader[i])"
   ]
  },
  {
   "cell_type": "code",
   "execution_count": 475,
   "metadata": {},
   "outputs": [],
   "source": [
    "gapheader = [\"Organism number\",\"#Organism/Name\",\"Symbiotic Plasmid\",\"Header name\",\"Sample name\",\"Organism\",\"Biosample\",\"ID\"]\n",
    "for i in range(len(allattributes)):\n",
    "    gapheader.append(allattributes[i])"
   ]
  },
  {
   "cell_type": "code",
   "execution_count": 483,
   "metadata": {},
   "outputs": [],
   "source": [
    "gapinf = []\n",
    "gapinf.append(gapheader)\n",
    "\n",
    "for i in range(len(flg3)):\n",
    "    currow = []\n",
    "    currow.append(flg3[i][8])\n",
    "    currow.append(flg3[i][9])\n",
    "    currow.append('') #fill in later with organisminf Symbiotic plasmid column\n",
    "    currow.append(flg3[i][1])\n",
    "    currow.append(flg3[i][2])\n",
    "    currow.append(flg3[i][3])\n",
    "    currow.append(flg3[i][6])\n",
    "    currow.append(flg3[i][7])\n",
    "    for j in range(8,len(gapheader)):\n",
    "        curatt = gapheader[j]\n",
    "        attmatch = ''\n",
    "        for j in range(len(flg3[i][4])):\n",
    "            if(flg3[i][4][j][0] == curatt):\n",
    "                attmatch = flg3[i][4][j][1]\n",
    "        currow.append(attmatch)\n",
    "    gapinf.append(currow)"
   ]
  },
  {
   "cell_type": "code",
   "execution_count": 488,
   "metadata": {},
   "outputs": [],
   "source": [
    "for i in range(1,len(gapinf)):\n",
    "    curnum = gapinf[i][0]\n",
    "    for j in range(1,len(organisminf)):\n",
    "        if(curnum == organisminf[j][0]):\n",
    "            gapinf[i][2] = organisminf[j][2]"
   ]
  },
  {
   "cell_type": "code",
   "execution_count": 491,
   "metadata": {},
   "outputs": [],
   "source": [
    "#LIST TO TEXT\n",
    "\n",
    "import os\n",
    "\n",
    "funcplas = open(\"csvs/gapinf.txt\",'w')\n",
    "\n",
    "for i in range(len(gapinf)):\n",
    "    for j in range(len(gapinf[i])):\n",
    "        funcplas.write(str(gapinf[i][j]))\n",
    "        if(j < (len(gapinf[i]) - 1)):\n",
    "            funcplas.write('\\t')\n",
    "    funcplas.write('\\n')"
   ]
  },
  {
   "cell_type": "code",
   "execution_count": 492,
   "metadata": {},
   "outputs": [],
   "source": [
    "#TEXT TO CSV \n",
    "\n",
    "import csv\n",
    "\n",
    "txt_file = r\"csvs/gapinf.txt\"\n",
    "csv_file = r\"csvs/gapinf.csv\"\n",
    "\n",
    "with open(txt_file, \"r\") as in_text:\n",
    "    in_reader = csv.reader(in_text, delimiter = '\\t')\n",
    "    with open(csv_file, \"w\") as out_csv:\n",
    "        out_writer = csv.writer(out_csv)\n",
    "        for row in in_reader:\n",
    "            out_writer.writerow(row)"
   ]
  },
  {
   "cell_type": "code",
   "execution_count": null,
   "metadata": {},
   "outputs": [],
   "source": []
  }
 ],
 "metadata": {
  "kernelspec": {
   "display_name": "Python 3",
   "language": "python",
   "name": "python3"
  },
  "language_info": {
   "codemirror_mode": {
    "name": "ipython",
    "version": 3
   },
   "file_extension": ".py",
   "mimetype": "text/x-python",
   "name": "python",
   "nbconvert_exporter": "python",
   "pygments_lexer": "ipython3",
   "version": "3.6.7"
  }
 },
 "nbformat": 4,
 "nbformat_minor": 2
}
